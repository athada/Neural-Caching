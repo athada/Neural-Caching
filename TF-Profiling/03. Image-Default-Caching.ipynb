{
 "cells": [
  {
   "cell_type": "code",
   "execution_count": 1,
   "id": "b7393823-9084-4f53-ba91-d80d3578059a",
   "metadata": {},
   "outputs": [],
   "source": [
    "import tensorflow as tf\n",
    "import numpy as np\n",
    "import time\n",
    "import psutil\n",
    "import os\n",
    "from tensorflow.keras.applications import NASNetMobile\n",
    "from tensorflow.keras.models import Model\n",
    "import tensorflow_datasets as tfds\n",
    "from tensorflow.keras.applications.imagenet_utils import preprocess_input\n",
    "import pandas as pd"
   ]
  },
  {
   "cell_type": "code",
   "execution_count": 9,
   "id": "696bd5b1-05c2-4034-8537-2af58081899c",
   "metadata": {},
   "outputs": [],
   "source": [
    "# Ensure TensorFlow only uses a limited amount of GPU memory\n",
    "gpus = tf.config.experimental.list_physical_devices('GPU')\n",
    "if gpus:\n",
    "    for gpu in gpus:\n",
    "        tf.config.experimental.set_memory_growth(gpu, True)\n",
    "\n",
    "# Define batch sizes and number of runs\n",
    "BATCH_SIZES = [1, 4, 8, 16, 32, 64, 100, 128]\n",
    "NUM_RUNS = 10  # Runs per batch size\n",
    "\n",
    "# Load NASNet model\n",
    "base_model = NASNetMobile(weights='imagenet', input_shape=(224, 224, 3))\n",
    "\n",
    "# Create a model that outputs intermediate layer results\n",
    "layer_outputs = [layer.output for layer in base_model.layers]\n",
    "model = Model(inputs=base_model.input, outputs=layer_outputs)\n",
    "\n",
    "# Precompile TensorFlow functions for performance\n",
    "@tf.function\n",
    "def run_inference(input_tensor):\n",
    "    return model(input_tensor)"
   ]
  },
  {
   "cell_type": "code",
   "execution_count": 10,
   "id": "c5f0fe96-1c55-4633-a6a0-93c92f844add",
   "metadata": {},
   "outputs": [],
   "source": [
    "# Load CIFAR-100 dataset\n",
    "def load_cifar100(batch_size):\n",
    "    dataset = tfds.load(\"cifar100\", split=\"train\", as_supervised=True)\n",
    "    dataset = dataset.map(lambda x, y: (tf.image.resize(x, [224, 224]), y))  # Resize to 224x224\n",
    "    dataset = dataset.batch(batch_size).prefetch(tf.data.AUTOTUNE)\n",
    "    return dataset"
   ]
  },
  {
   "cell_type": "code",
   "execution_count": 11,
   "id": "3bf2fae3-8492-4725-bf65-259d1b5e9174",
   "metadata": {},
   "outputs": [],
   "source": [
    "# Function to measure inference time and memory\n",
    "def benchmark_model(device, batch_size, dataset_iter):\n",
    "    print(f\"\\nRunning on {device} with batch size {batch_size}\")\n",
    "    results = []\n",
    "\n",
    "    for run in range(NUM_RUNS):\n",
    "        # Load Dataset\n",
    "        try:\n",
    "            input_tensor, _ = next(dataset_iter)  # Get real ImageNet images\n",
    "        except StopIteration:\n",
    "            dataset_iter = iter(dataset)  # Restart dataset if exhausted\n",
    "            input_tensor, _ = next(dataset_iter)\n",
    "        \n",
    "        with tf.device(device):\n",
    "            tensor_sizes = {}\n",
    "\n",
    "            # Warm-up to avoid cold start latency\n",
    "            _ = run_inference(input_tensor)\n",
    "\n",
    "            start_time = time.perf_counter()\n",
    "\n",
    "            # Measure Layer wise tensor size\n",
    "            output = run_inference(input_tensor)\n",
    "            \n",
    "            # Measure per-layer execution time\n",
    "            for idx, layer in enumerate(model.layers):\n",
    "                # Calculate tensor size in MB (float32 = 4 bytes)\n",
    "                tensor_size = np.prod(output[idx].shape) * 4 / (1024 ** 2)\n",
    "                tensor_sizes[layer.name] = tensor_size\n",
    "            \n",
    "            total_time = time.perf_counter() - start_time\n",
    "    \n",
    "            results.append({\n",
    "                \"device\": device,\n",
    "                \"batch_size\": batch_size,\n",
    "                \"total_time\": total_time\n",
    "            })\n",
    "\n",
    "    return results"
   ]
  },
  {
   "cell_type": "markdown",
   "id": "ce971083-6c41-428c-8b7f-4709cd3eb672",
   "metadata": {},
   "source": [
    "## Experiment Logging"
   ]
  },
  {
   "cell_type": "code",
   "execution_count": 12,
   "id": "9dee6e6d-e078-48de-98c9-aeaa75b53d8a",
   "metadata": {
    "scrolled": true
   },
   "outputs": [
    {
     "name": "stderr",
     "output_type": "stream",
     "text": [
      "2025-02-05 15:27:33.927462: W tensorflow/core/kernels/data/cache_dataset_ops.cc:858] The calling iterator did not fully read the dataset being cached. In order to avoid unexpected truncation of the dataset, the partially cached contents of the dataset  will be discarded. This can happen if you have an input pipeline similar to `dataset.cache().take(k).repeat()`. You should use `dataset.take(k).cache().repeat()` instead.\n",
      "2025-02-05 15:27:33.931895: I external/local_tsl/tsl/profiler/lib/profiler_session.cc:104] Profiler session initializing.\n",
      "2025-02-05 15:27:33.931907: I external/local_tsl/tsl/profiler/lib/profiler_session.cc:119] Profiler session started.\n"
     ]
    },
    {
     "name": "stdout",
     "output_type": "stream",
     "text": [
      "\n",
      "Running on /CPU:0 with batch size 1\n"
     ]
    },
    {
     "name": "stderr",
     "output_type": "stream",
     "text": [
      "2025-02-05 15:27:37.383671: I external/local_tsl/tsl/profiler/lib/profiler_session.cc:70] Profiler session collecting data.\n",
      "2025-02-05 15:27:37.523646: I external/local_tsl/tsl/profiler/lib/profiler_session.cc:131] Profiler session tear down.\n",
      "2025-02-05 15:27:37.523965: I external/local_tsl/tsl/profiler/rpc/client/save_profile.cc:144] Collecting XSpace to repository: logs/Image/Cache/CPU/1/plugins/profile/2025_02_05_15_27_37/C17586.xplane.pb\n",
      "2025-02-05 15:27:37.578661: W tensorflow/core/kernels/data/cache_dataset_ops.cc:858] The calling iterator did not fully read the dataset being cached. In order to avoid unexpected truncation of the dataset, the partially cached contents of the dataset  will be discarded. This can happen if you have an input pipeline similar to `dataset.cache().take(k).repeat()`. You should use `dataset.take(k).cache().repeat()` instead.\n",
      "2025-02-05 15:27:37.580863: I external/local_tsl/tsl/profiler/lib/profiler_session.cc:104] Profiler session initializing.\n",
      "2025-02-05 15:27:37.580873: I external/local_tsl/tsl/profiler/lib/profiler_session.cc:119] Profiler session started.\n"
     ]
    },
    {
     "name": "stdout",
     "output_type": "stream",
     "text": [
      "\n",
      "Running on /CPU:0 with batch size 4\n"
     ]
    },
    {
     "name": "stderr",
     "output_type": "stream",
     "text": [
      "2025-02-05 15:27:40.962839: I external/local_tsl/tsl/profiler/lib/profiler_session.cc:70] Profiler session collecting data.\n",
      "2025-02-05 15:27:41.101684: I external/local_tsl/tsl/profiler/lib/profiler_session.cc:131] Profiler session tear down.\n",
      "2025-02-05 15:27:41.101916: I external/local_tsl/tsl/profiler/rpc/client/save_profile.cc:144] Collecting XSpace to repository: logs/Image/Cache/CPU/4/plugins/profile/2025_02_05_15_27_41/C17586.xplane.pb\n",
      "2025-02-05 15:27:41.167531: W tensorflow/core/kernels/data/cache_dataset_ops.cc:858] The calling iterator did not fully read the dataset being cached. In order to avoid unexpected truncation of the dataset, the partially cached contents of the dataset  will be discarded. This can happen if you have an input pipeline similar to `dataset.cache().take(k).repeat()`. You should use `dataset.take(k).cache().repeat()` instead.\n",
      "2025-02-05 15:27:41.172755: I external/local_tsl/tsl/profiler/lib/profiler_session.cc:104] Profiler session initializing.\n",
      "2025-02-05 15:27:41.172769: I external/local_tsl/tsl/profiler/lib/profiler_session.cc:119] Profiler session started.\n"
     ]
    },
    {
     "name": "stdout",
     "output_type": "stream",
     "text": [
      "\n",
      "Running on /CPU:0 with batch size 8\n"
     ]
    },
    {
     "name": "stderr",
     "output_type": "stream",
     "text": [
      "2025-02-05 15:27:45.299739: I external/local_tsl/tsl/profiler/lib/profiler_session.cc:70] Profiler session collecting data.\n",
      "2025-02-05 15:27:45.445161: I external/local_tsl/tsl/profiler/lib/profiler_session.cc:131] Profiler session tear down.\n",
      "2025-02-05 15:27:45.445414: I external/local_tsl/tsl/profiler/rpc/client/save_profile.cc:144] Collecting XSpace to repository: logs/Image/Cache/CPU/8/plugins/profile/2025_02_05_15_27_45/C17586.xplane.pb\n",
      "2025-02-05 15:27:45.501890: W tensorflow/core/kernels/data/cache_dataset_ops.cc:858] The calling iterator did not fully read the dataset being cached. In order to avoid unexpected truncation of the dataset, the partially cached contents of the dataset  will be discarded. This can happen if you have an input pipeline similar to `dataset.cache().take(k).repeat()`. You should use `dataset.take(k).cache().repeat()` instead.\n",
      "2025-02-05 15:27:45.504798: I external/local_tsl/tsl/profiler/lib/profiler_session.cc:104] Profiler session initializing.\n",
      "2025-02-05 15:27:45.504804: I external/local_tsl/tsl/profiler/lib/profiler_session.cc:119] Profiler session started.\n"
     ]
    },
    {
     "name": "stdout",
     "output_type": "stream",
     "text": [
      "\n",
      "Running on /CPU:0 with batch size 16\n"
     ]
    },
    {
     "name": "stderr",
     "output_type": "stream",
     "text": [
      "2025-02-05 15:27:51.469787: I external/local_tsl/tsl/profiler/lib/profiler_session.cc:70] Profiler session collecting data.\n",
      "2025-02-05 15:27:51.624991: I external/local_tsl/tsl/profiler/lib/profiler_session.cc:131] Profiler session tear down.\n",
      "2025-02-05 15:27:51.625238: I external/local_tsl/tsl/profiler/rpc/client/save_profile.cc:144] Collecting XSpace to repository: logs/Image/Cache/CPU/16/plugins/profile/2025_02_05_15_27_51/C17586.xplane.pb\n",
      "2025-02-05 15:27:51.681963: W tensorflow/core/kernels/data/cache_dataset_ops.cc:858] The calling iterator did not fully read the dataset being cached. In order to avoid unexpected truncation of the dataset, the partially cached contents of the dataset  will be discarded. This can happen if you have an input pipeline similar to `dataset.cache().take(k).repeat()`. You should use `dataset.take(k).cache().repeat()` instead.\n",
      "2025-02-05 15:27:51.684883: I external/local_tsl/tsl/profiler/lib/profiler_session.cc:104] Profiler session initializing.\n",
      "2025-02-05 15:27:51.684891: I external/local_tsl/tsl/profiler/lib/profiler_session.cc:119] Profiler session started.\n"
     ]
    },
    {
     "name": "stdout",
     "output_type": "stream",
     "text": [
      "\n",
      "Running on /CPU:0 with batch size 32\n"
     ]
    },
    {
     "name": "stderr",
     "output_type": "stream",
     "text": [
      "2025-02-05 15:28:05.263425: I external/local_tsl/tsl/profiler/lib/profiler_session.cc:70] Profiler session collecting data.\n",
      "2025-02-05 15:28:05.436126: I external/local_tsl/tsl/profiler/lib/profiler_session.cc:131] Profiler session tear down.\n",
      "2025-02-05 15:28:05.436420: I external/local_tsl/tsl/profiler/rpc/client/save_profile.cc:144] Collecting XSpace to repository: logs/Image/Cache/CPU/32/plugins/profile/2025_02_05_15_28_05/C17586.xplane.pb\n",
      "2025-02-05 15:28:05.507649: W tensorflow/core/kernels/data/cache_dataset_ops.cc:858] The calling iterator did not fully read the dataset being cached. In order to avoid unexpected truncation of the dataset, the partially cached contents of the dataset  will be discarded. This can happen if you have an input pipeline similar to `dataset.cache().take(k).repeat()`. You should use `dataset.take(k).cache().repeat()` instead.\n",
      "2025-02-05 15:28:05.513456: I external/local_tsl/tsl/profiler/lib/profiler_session.cc:104] Profiler session initializing.\n",
      "2025-02-05 15:28:05.513469: I external/local_tsl/tsl/profiler/lib/profiler_session.cc:119] Profiler session started.\n"
     ]
    },
    {
     "name": "stdout",
     "output_type": "stream",
     "text": [
      "\n",
      "Running on /CPU:0 with batch size 64\n"
     ]
    },
    {
     "name": "stderr",
     "output_type": "stream",
     "text": [
      "2025-02-05 15:28:35.213556: I external/local_tsl/tsl/profiler/lib/profiler_session.cc:70] Profiler session collecting data.\n",
      "2025-02-05 15:28:35.507941: I external/local_tsl/tsl/profiler/lib/profiler_session.cc:131] Profiler session tear down.\n",
      "2025-02-05 15:28:35.508461: I external/local_tsl/tsl/profiler/rpc/client/save_profile.cc:144] Collecting XSpace to repository: logs/Image/Cache/CPU/64/plugins/profile/2025_02_05_15_28_35/C17586.xplane.pb\n",
      "2025-02-05 15:28:35.669217: W tensorflow/core/kernels/data/cache_dataset_ops.cc:858] The calling iterator did not fully read the dataset being cached. In order to avoid unexpected truncation of the dataset, the partially cached contents of the dataset  will be discarded. This can happen if you have an input pipeline similar to `dataset.cache().take(k).repeat()`. You should use `dataset.take(k).cache().repeat()` instead.\n",
      "2025-02-05 15:28:35.690169: I external/local_tsl/tsl/profiler/lib/profiler_session.cc:104] Profiler session initializing.\n",
      "2025-02-05 15:28:35.690177: I external/local_tsl/tsl/profiler/lib/profiler_session.cc:119] Profiler session started.\n"
     ]
    },
    {
     "name": "stdout",
     "output_type": "stream",
     "text": [
      "\n",
      "Running on /CPU:0 with batch size 100\n"
     ]
    },
    {
     "name": "stderr",
     "output_type": "stream",
     "text": [
      "2025-02-05 15:29:24.304338: I external/local_tsl/tsl/profiler/lib/profiler_session.cc:70] Profiler session collecting data.\n",
      "2025-02-05 15:29:24.846261: I external/local_tsl/tsl/profiler/lib/profiler_session.cc:131] Profiler session tear down.\n",
      "2025-02-05 15:29:24.850067: I external/local_tsl/tsl/profiler/rpc/client/save_profile.cc:144] Collecting XSpace to repository: logs/Image/Cache/CPU/100/plugins/profile/2025_02_05_15_29_24/C17586.xplane.pb\n",
      "2025-02-05 15:29:25.126872: W tensorflow/core/kernels/data/cache_dataset_ops.cc:858] The calling iterator did not fully read the dataset being cached. In order to avoid unexpected truncation of the dataset, the partially cached contents of the dataset  will be discarded. This can happen if you have an input pipeline similar to `dataset.cache().take(k).repeat()`. You should use `dataset.take(k).cache().repeat()` instead.\n",
      "2025-02-05 15:29:25.146225: I external/local_tsl/tsl/profiler/lib/profiler_session.cc:104] Profiler session initializing.\n",
      "2025-02-05 15:29:25.146233: I external/local_tsl/tsl/profiler/lib/profiler_session.cc:119] Profiler session started.\n"
     ]
    },
    {
     "name": "stdout",
     "output_type": "stream",
     "text": [
      "\n",
      "Running on /CPU:0 with batch size 128\n"
     ]
    },
    {
     "name": "stderr",
     "output_type": "stream",
     "text": [
      "2025-02-05 15:30:36.890787: I external/local_tsl/tsl/profiler/lib/profiler_session.cc:70] Profiler session collecting data.\n",
      "2025-02-05 15:30:37.441498: I external/local_tsl/tsl/profiler/lib/profiler_session.cc:131] Profiler session tear down.\n",
      "2025-02-05 15:30:37.456481: I external/local_tsl/tsl/profiler/rpc/client/save_profile.cc:144] Collecting XSpace to repository: logs/Image/Cache/CPU/128/plugins/profile/2025_02_05_15_30_37/C17586.xplane.pb\n",
      "2025-02-05 15:30:37.836518: W tensorflow/core/kernels/data/cache_dataset_ops.cc:858] The calling iterator did not fully read the dataset being cached. In order to avoid unexpected truncation of the dataset, the partially cached contents of the dataset  will be discarded. This can happen if you have an input pipeline similar to `dataset.cache().take(k).repeat()`. You should use `dataset.take(k).cache().repeat()` instead.\n",
      "2025-02-05 15:30:37.881874: I external/local_tsl/tsl/profiler/lib/profiler_session.cc:104] Profiler session initializing.\n",
      "2025-02-05 15:30:37.881886: I external/local_tsl/tsl/profiler/lib/profiler_session.cc:119] Profiler session started.\n"
     ]
    },
    {
     "name": "stdout",
     "output_type": "stream",
     "text": [
      "\n",
      "Running on /GPU:0 with batch size 1\n"
     ]
    },
    {
     "name": "stderr",
     "output_type": "stream",
     "text": [
      "2025-02-05 15:30:51.073021: I external/local_tsl/tsl/profiler/lib/profiler_session.cc:70] Profiler session collecting data.\n",
      "2025-02-05 15:30:51.104780: I external/local_tsl/tsl/profiler/lib/profiler_session.cc:131] Profiler session tear down.\n",
      "2025-02-05 15:30:51.105030: I external/local_tsl/tsl/profiler/rpc/client/save_profile.cc:144] Collecting XSpace to repository: logs/Image/Cache/GPU/1/plugins/profile/2025_02_05_15_30_51/C17586.xplane.pb\n",
      "2025-02-05 15:30:51.153500: W tensorflow/core/kernels/data/cache_dataset_ops.cc:858] The calling iterator did not fully read the dataset being cached. In order to avoid unexpected truncation of the dataset, the partially cached contents of the dataset  will be discarded. This can happen if you have an input pipeline similar to `dataset.cache().take(k).repeat()`. You should use `dataset.take(k).cache().repeat()` instead.\n",
      "2025-02-05 15:30:51.154574: I external/local_tsl/tsl/profiler/lib/profiler_session.cc:104] Profiler session initializing.\n",
      "2025-02-05 15:30:51.154580: I external/local_tsl/tsl/profiler/lib/profiler_session.cc:119] Profiler session started.\n"
     ]
    },
    {
     "name": "stdout",
     "output_type": "stream",
     "text": [
      "\n",
      "Running on /GPU:0 with batch size 4\n"
     ]
    },
    {
     "name": "stderr",
     "output_type": "stream",
     "text": [
      "2025-02-05 15:31:17.788087: I external/local_tsl/tsl/profiler/lib/profiler_session.cc:70] Profiler session collecting data.\n",
      "2025-02-05 15:31:17.815392: I external/local_tsl/tsl/profiler/lib/profiler_session.cc:131] Profiler session tear down.\n",
      "2025-02-05 15:31:17.815622: I external/local_tsl/tsl/profiler/rpc/client/save_profile.cc:144] Collecting XSpace to repository: logs/Image/Cache/GPU/4/plugins/profile/2025_02_05_15_31_17/C17586.xplane.pb\n",
      "2025-02-05 15:31:17.861134: W tensorflow/core/kernels/data/cache_dataset_ops.cc:858] The calling iterator did not fully read the dataset being cached. In order to avoid unexpected truncation of the dataset, the partially cached contents of the dataset  will be discarded. This can happen if you have an input pipeline similar to `dataset.cache().take(k).repeat()`. You should use `dataset.take(k).cache().repeat()` instead.\n",
      "2025-02-05 15:31:17.863280: I external/local_tsl/tsl/profiler/lib/profiler_session.cc:104] Profiler session initializing.\n",
      "2025-02-05 15:31:17.863287: I external/local_tsl/tsl/profiler/lib/profiler_session.cc:119] Profiler session started.\n"
     ]
    },
    {
     "name": "stdout",
     "output_type": "stream",
     "text": [
      "\n",
      "Running on /GPU:0 with batch size 8\n"
     ]
    },
    {
     "name": "stderr",
     "output_type": "stream",
     "text": [
      "2025-02-05 15:31:33.675751: I external/local_tsl/tsl/profiler/lib/profiler_session.cc:70] Profiler session collecting data.\n",
      "2025-02-05 15:31:33.705065: I external/local_tsl/tsl/profiler/lib/profiler_session.cc:131] Profiler session tear down.\n",
      "2025-02-05 15:31:33.705291: I external/local_tsl/tsl/profiler/rpc/client/save_profile.cc:144] Collecting XSpace to repository: logs/Image/Cache/GPU/8/plugins/profile/2025_02_05_15_31_33/C17586.xplane.pb\n",
      "2025-02-05 15:31:33.752071: W tensorflow/core/kernels/data/cache_dataset_ops.cc:858] The calling iterator did not fully read the dataset being cached. In order to avoid unexpected truncation of the dataset, the partially cached contents of the dataset  will be discarded. This can happen if you have an input pipeline similar to `dataset.cache().take(k).repeat()`. You should use `dataset.take(k).cache().repeat()` instead.\n",
      "2025-02-05 15:31:33.754198: I external/local_tsl/tsl/profiler/lib/profiler_session.cc:104] Profiler session initializing.\n",
      "2025-02-05 15:31:33.754204: I external/local_tsl/tsl/profiler/lib/profiler_session.cc:119] Profiler session started.\n"
     ]
    },
    {
     "name": "stdout",
     "output_type": "stream",
     "text": [
      "\n",
      "Running on /GPU:0 with batch size 16\n"
     ]
    },
    {
     "name": "stderr",
     "output_type": "stream",
     "text": [
      "2025-02-05 15:32:01.473727: I external/local_tsl/tsl/profiler/lib/profiler_session.cc:70] Profiler session collecting data.\n",
      "2025-02-05 15:32:01.506508: I external/local_tsl/tsl/profiler/lib/profiler_session.cc:131] Profiler session tear down.\n",
      "2025-02-05 15:32:01.506761: I external/local_tsl/tsl/profiler/rpc/client/save_profile.cc:144] Collecting XSpace to repository: logs/Image/Cache/GPU/16/plugins/profile/2025_02_05_15_32_01/C17586.xplane.pb\n",
      "2025-02-05 15:32:01.559540: W tensorflow/core/kernels/data/cache_dataset_ops.cc:858] The calling iterator did not fully read the dataset being cached. In order to avoid unexpected truncation of the dataset, the partially cached contents of the dataset  will be discarded. This can happen if you have an input pipeline similar to `dataset.cache().take(k).repeat()`. You should use `dataset.take(k).cache().repeat()` instead.\n",
      "2025-02-05 15:32:01.562577: I external/local_tsl/tsl/profiler/lib/profiler_session.cc:104] Profiler session initializing.\n",
      "2025-02-05 15:32:01.562583: I external/local_tsl/tsl/profiler/lib/profiler_session.cc:119] Profiler session started.\n"
     ]
    },
    {
     "name": "stdout",
     "output_type": "stream",
     "text": [
      "\n",
      "Running on /GPU:0 with batch size 32\n"
     ]
    },
    {
     "name": "stderr",
     "output_type": "stream",
     "text": [
      "2025-02-05 15:32:44.950899: I external/local_tsl/tsl/profiler/lib/profiler_session.cc:70] Profiler session collecting data.\n",
      "2025-02-05 15:32:45.060095: I external/local_tsl/tsl/profiler/lib/profiler_session.cc:131] Profiler session tear down.\n",
      "2025-02-05 15:32:45.064892: I external/local_tsl/tsl/profiler/rpc/client/save_profile.cc:144] Collecting XSpace to repository: logs/Image/Cache/GPU/32/plugins/profile/2025_02_05_15_32_45/C17586.xplane.pb\n",
      "2025-02-05 15:32:45.257813: W tensorflow/core/kernels/data/cache_dataset_ops.cc:858] The calling iterator did not fully read the dataset being cached. In order to avoid unexpected truncation of the dataset, the partially cached contents of the dataset  will be discarded. This can happen if you have an input pipeline similar to `dataset.cache().take(k).repeat()`. You should use `dataset.take(k).cache().repeat()` instead.\n",
      "2025-02-05 15:32:45.262282: I external/local_tsl/tsl/profiler/lib/profiler_session.cc:104] Profiler session initializing.\n",
      "2025-02-05 15:32:45.262289: I external/local_tsl/tsl/profiler/lib/profiler_session.cc:119] Profiler session started.\n"
     ]
    },
    {
     "name": "stdout",
     "output_type": "stream",
     "text": [
      "\n",
      "Running on /GPU:0 with batch size 64\n"
     ]
    },
    {
     "name": "stderr",
     "output_type": "stream",
     "text": [
      "2025-02-05 15:33:47.460893: I external/local_tsl/tsl/profiler/lib/profiler_session.cc:70] Profiler session collecting data.\n",
      "2025-02-05 15:33:47.986626: I external/local_tsl/tsl/profiler/lib/profiler_session.cc:131] Profiler session tear down.\n",
      "2025-02-05 15:33:47.993094: I external/local_tsl/tsl/profiler/rpc/client/save_profile.cc:144] Collecting XSpace to repository: logs/Image/Cache/GPU/64/plugins/profile/2025_02_05_15_33_47/C17586.xplane.pb\n",
      "2025-02-05 15:33:48.709139: W tensorflow/core/kernels/data/cache_dataset_ops.cc:858] The calling iterator did not fully read the dataset being cached. In order to avoid unexpected truncation of the dataset, the partially cached contents of the dataset  will be discarded. This can happen if you have an input pipeline similar to `dataset.cache().take(k).repeat()`. You should use `dataset.take(k).cache().repeat()` instead.\n",
      "2025-02-05 15:33:48.735027: I external/local_tsl/tsl/profiler/lib/profiler_session.cc:104] Profiler session initializing.\n",
      "2025-02-05 15:33:48.735042: I external/local_tsl/tsl/profiler/lib/profiler_session.cc:119] Profiler session started.\n"
     ]
    },
    {
     "name": "stdout",
     "output_type": "stream",
     "text": [
      "\n",
      "Running on /GPU:0 with batch size 100\n"
     ]
    },
    {
     "name": "stderr",
     "output_type": "stream",
     "text": [
      "2025-02-05 15:35:27.840336: I external/local_tsl/tsl/profiler/lib/profiler_session.cc:70] Profiler session collecting data.\n",
      "2025-02-05 15:35:29.185289: I external/local_tsl/tsl/profiler/lib/profiler_session.cc:131] Profiler session tear down.\n",
      "2025-02-05 15:35:29.190676: I external/local_tsl/tsl/profiler/rpc/client/save_profile.cc:144] Collecting XSpace to repository: logs/Image/Cache/GPU/100/plugins/profile/2025_02_05_15_35_29/C17586.xplane.pb\n",
      "2025-02-05 15:35:30.415630: W tensorflow/core/kernels/data/cache_dataset_ops.cc:858] The calling iterator did not fully read the dataset being cached. In order to avoid unexpected truncation of the dataset, the partially cached contents of the dataset  will be discarded. This can happen if you have an input pipeline similar to `dataset.cache().take(k).repeat()`. You should use `dataset.take(k).cache().repeat()` instead.\n",
      "2025-02-05 15:35:30.518263: I external/local_tsl/tsl/profiler/lib/profiler_session.cc:104] Profiler session initializing.\n",
      "2025-02-05 15:35:30.518273: I external/local_tsl/tsl/profiler/lib/profiler_session.cc:119] Profiler session started.\n"
     ]
    },
    {
     "name": "stdout",
     "output_type": "stream",
     "text": [
      "\n",
      "Running on /GPU:0 with batch size 128\n"
     ]
    },
    {
     "name": "stderr",
     "output_type": "stream",
     "text": [
      "2025-02-05 15:37:26.411038: I external/local_tsl/tsl/profiler/lib/profiler_session.cc:70] Profiler session collecting data.\n",
      "2025-02-05 15:37:27.972349: I external/local_tsl/tsl/profiler/lib/profiler_session.cc:131] Profiler session tear down.\n",
      "2025-02-05 15:37:27.978163: I external/local_tsl/tsl/profiler/rpc/client/save_profile.cc:144] Collecting XSpace to repository: logs/Image/Cache/GPU/128/plugins/profile/2025_02_05_15_37_27/C17586.xplane.pb\n"
     ]
    }
   ],
   "source": [
    "# Run benchmarks for CPU and GPU (if available)\n",
    "devices = [\"/CPU:0\"]\n",
    "if gpus:\n",
    "    devices.append(\"/GPU:0\")\n",
    "\n",
    "final_results = []\n",
    "\n",
    "for device in devices:    \n",
    "    for batch_size in BATCH_SIZES:\n",
    "        dataset = load_cifar100(batch_size)\n",
    "        dataset_iter = iter(dataset)\n",
    "        try:\n",
    "            tf.profiler.experimental.start(f\"logs/Image/Cache/{device[1:4]}/{batch_size}\")\n",
    "            final_results.extend(benchmark_model(device, batch_size, dataset_iter))\n",
    "        finally:\n",
    "            tf.profiler.experimental.stop()"
   ]
  },
  {
   "cell_type": "markdown",
   "id": "f683f918-bf38-476e-8105-f3412daa03a1",
   "metadata": {},
   "source": [
    "## Results"
   ]
  },
  {
   "cell_type": "code",
   "execution_count": 13,
   "id": "b89c2cdf-e266-49e0-ba22-1cd44079a2c2",
   "metadata": {},
   "outputs": [
    {
     "data": {
      "text/html": [
       "<div>\n",
       "<style scoped>\n",
       "    .dataframe tbody tr th:only-of-type {\n",
       "        vertical-align: middle;\n",
       "    }\n",
       "\n",
       "    .dataframe tbody tr th {\n",
       "        vertical-align: top;\n",
       "    }\n",
       "\n",
       "    .dataframe thead th {\n",
       "        text-align: right;\n",
       "    }\n",
       "</style>\n",
       "<table border=\"1\" class=\"dataframe\">\n",
       "  <thead>\n",
       "    <tr style=\"text-align: right;\">\n",
       "      <th></th>\n",
       "      <th>device</th>\n",
       "      <th>batch_size</th>\n",
       "      <th>total_time</th>\n",
       "    </tr>\n",
       "  </thead>\n",
       "  <tbody>\n",
       "    <tr>\n",
       "      <th>0</th>\n",
       "      <td>/CPU:0</td>\n",
       "      <td>1</td>\n",
       "      <td>0.147739</td>\n",
       "    </tr>\n",
       "    <tr>\n",
       "      <th>1</th>\n",
       "      <td>/CPU:0</td>\n",
       "      <td>1</td>\n",
       "      <td>0.044316</td>\n",
       "    </tr>\n",
       "    <tr>\n",
       "      <th>2</th>\n",
       "      <td>/CPU:0</td>\n",
       "      <td>1</td>\n",
       "      <td>0.042249</td>\n",
       "    </tr>\n",
       "    <tr>\n",
       "      <th>3</th>\n",
       "      <td>/CPU:0</td>\n",
       "      <td>1</td>\n",
       "      <td>0.041992</td>\n",
       "    </tr>\n",
       "    <tr>\n",
       "      <th>4</th>\n",
       "      <td>/CPU:0</td>\n",
       "      <td>1</td>\n",
       "      <td>0.041455</td>\n",
       "    </tr>\n",
       "  </tbody>\n",
       "</table>\n",
       "</div>"
      ],
      "text/plain": [
       "   device  batch_size  total_time\n",
       "0  /CPU:0           1    0.147739\n",
       "1  /CPU:0           1    0.044316\n",
       "2  /CPU:0           1    0.042249\n",
       "3  /CPU:0           1    0.041992\n",
       "4  /CPU:0           1    0.041455"
      ]
     },
     "execution_count": 13,
     "metadata": {},
     "output_type": "execute_result"
    }
   ],
   "source": [
    "df = pd.DataFrame(final_results)\n",
    "df.head()"
   ]
  },
  {
   "cell_type": "code",
   "execution_count": 14,
   "id": "fa9939fb-12b7-4db5-8ea2-b6b62549cddb",
   "metadata": {},
   "outputs": [
    {
     "data": {
      "text/html": [
       "<div>\n",
       "<style scoped>\n",
       "    .dataframe tbody tr th:only-of-type {\n",
       "        vertical-align: middle;\n",
       "    }\n",
       "\n",
       "    .dataframe tbody tr th {\n",
       "        vertical-align: top;\n",
       "    }\n",
       "\n",
       "    .dataframe thead tr th {\n",
       "        text-align: left;\n",
       "    }\n",
       "\n",
       "    .dataframe thead tr:last-of-type th {\n",
       "        text-align: right;\n",
       "    }\n",
       "</style>\n",
       "<table border=\"1\" class=\"dataframe\">\n",
       "  <thead>\n",
       "    <tr>\n",
       "      <th></th>\n",
       "      <th></th>\n",
       "      <th colspan=\"4\" halign=\"left\">total_time</th>\n",
       "    </tr>\n",
       "    <tr>\n",
       "      <th></th>\n",
       "      <th></th>\n",
       "      <th>min</th>\n",
       "      <th>mean</th>\n",
       "      <th>var</th>\n",
       "      <th>max</th>\n",
       "    </tr>\n",
       "    <tr>\n",
       "      <th>device</th>\n",
       "      <th>batch_size</th>\n",
       "      <th></th>\n",
       "      <th></th>\n",
       "      <th></th>\n",
       "      <th></th>\n",
       "    </tr>\n",
       "  </thead>\n",
       "  <tbody>\n",
       "    <tr>\n",
       "      <th rowspan=\"8\" valign=\"top\">/CPU:0</th>\n",
       "      <th>1</th>\n",
       "      <td>0.041455</td>\n",
       "      <td>0.052890</td>\n",
       "      <td>0.001111</td>\n",
       "      <td>0.147739</td>\n",
       "    </tr>\n",
       "    <tr>\n",
       "      <th>4</th>\n",
       "      <td>0.060602</td>\n",
       "      <td>0.066622</td>\n",
       "      <td>0.000031</td>\n",
       "      <td>0.076599</td>\n",
       "    </tr>\n",
       "    <tr>\n",
       "      <th>8</th>\n",
       "      <td>0.085620</td>\n",
       "      <td>0.095859</td>\n",
       "      <td>0.000141</td>\n",
       "      <td>0.123743</td>\n",
       "    </tr>\n",
       "    <tr>\n",
       "      <th>16</th>\n",
       "      <td>0.166901</td>\n",
       "      <td>0.195135</td>\n",
       "      <td>0.001677</td>\n",
       "      <td>0.278784</td>\n",
       "    </tr>\n",
       "    <tr>\n",
       "      <th>32</th>\n",
       "      <td>0.453027</td>\n",
       "      <td>0.709789</td>\n",
       "      <td>0.021931</td>\n",
       "      <td>0.931951</td>\n",
       "    </tr>\n",
       "    <tr>\n",
       "      <th>64</th>\n",
       "      <td>1.487445</td>\n",
       "      <td>1.825609</td>\n",
       "      <td>0.033425</td>\n",
       "      <td>2.031429</td>\n",
       "    </tr>\n",
       "    <tr>\n",
       "      <th>100</th>\n",
       "      <td>2.220175</td>\n",
       "      <td>2.526821</td>\n",
       "      <td>0.037966</td>\n",
       "      <td>2.812151</td>\n",
       "    </tr>\n",
       "    <tr>\n",
       "      <th>128</th>\n",
       "      <td>3.296475</td>\n",
       "      <td>3.854590</td>\n",
       "      <td>0.283979</td>\n",
       "      <td>4.928806</td>\n",
       "    </tr>\n",
       "    <tr>\n",
       "      <th rowspan=\"8\" valign=\"top\">/GPU:0</th>\n",
       "      <th>1</th>\n",
       "      <td>0.085628</td>\n",
       "      <td>0.331242</td>\n",
       "      <td>0.536030</td>\n",
       "      <td>2.413133</td>\n",
       "    </tr>\n",
       "    <tr>\n",
       "      <th>4</th>\n",
       "      <td>0.086944</td>\n",
       "      <td>0.251754</td>\n",
       "      <td>0.249392</td>\n",
       "      <td>1.672731</td>\n",
       "    </tr>\n",
       "    <tr>\n",
       "      <th>8</th>\n",
       "      <td>0.087011</td>\n",
       "      <td>0.531176</td>\n",
       "      <td>1.924538</td>\n",
       "      <td>4.479369</td>\n",
       "    </tr>\n",
       "    <tr>\n",
       "      <th>16</th>\n",
       "      <td>0.090890</td>\n",
       "      <td>0.786182</td>\n",
       "      <td>2.738114</td>\n",
       "      <td>5.206036</td>\n",
       "    </tr>\n",
       "    <tr>\n",
       "      <th>32</th>\n",
       "      <td>0.129955</td>\n",
       "      <td>0.731244</td>\n",
       "      <td>2.596973</td>\n",
       "      <td>5.290575</td>\n",
       "    </tr>\n",
       "    <tr>\n",
       "      <th>64</th>\n",
       "      <td>0.879107</td>\n",
       "      <td>2.000703</td>\n",
       "      <td>2.811939</td>\n",
       "      <td>6.419471</td>\n",
       "    </tr>\n",
       "    <tr>\n",
       "      <th>100</th>\n",
       "      <td>2.202386</td>\n",
       "      <td>2.977277</td>\n",
       "      <td>0.368923</td>\n",
       "      <td>4.232437</td>\n",
       "    </tr>\n",
       "    <tr>\n",
       "      <th>128</th>\n",
       "      <td>3.114430</td>\n",
       "      <td>5.992218</td>\n",
       "      <td>19.552280</td>\n",
       "      <td>16.222515</td>\n",
       "    </tr>\n",
       "  </tbody>\n",
       "</table>\n",
       "</div>"
      ],
      "text/plain": [
       "                  total_time                                \n",
       "                         min      mean        var        max\n",
       "device batch_size                                           \n",
       "/CPU:0 1            0.041455  0.052890   0.001111   0.147739\n",
       "       4            0.060602  0.066622   0.000031   0.076599\n",
       "       8            0.085620  0.095859   0.000141   0.123743\n",
       "       16           0.166901  0.195135   0.001677   0.278784\n",
       "       32           0.453027  0.709789   0.021931   0.931951\n",
       "       64           1.487445  1.825609   0.033425   2.031429\n",
       "       100          2.220175  2.526821   0.037966   2.812151\n",
       "       128          3.296475  3.854590   0.283979   4.928806\n",
       "/GPU:0 1            0.085628  0.331242   0.536030   2.413133\n",
       "       4            0.086944  0.251754   0.249392   1.672731\n",
       "       8            0.087011  0.531176   1.924538   4.479369\n",
       "       16           0.090890  0.786182   2.738114   5.206036\n",
       "       32           0.129955  0.731244   2.596973   5.290575\n",
       "       64           0.879107  2.000703   2.811939   6.419471\n",
       "       100          2.202386  2.977277   0.368923   4.232437\n",
       "       128          3.114430  5.992218  19.552280  16.222515"
      ]
     },
     "execution_count": 14,
     "metadata": {},
     "output_type": "execute_result"
    }
   ],
   "source": [
    "df.groupby(['device', 'batch_size']).agg({'total_time': ['min', 'mean', 'var', 'max']})"
   ]
  },
  {
   "cell_type": "code",
   "execution_count": null,
   "id": "0769886b-f85f-489f-ad64-b263751231d9",
   "metadata": {},
   "outputs": [],
   "source": []
  }
 ],
 "metadata": {
  "kernelspec": {
   "display_name": "Python 3 (ipykernel)",
   "language": "python",
   "name": "python3"
  },
  "language_info": {
   "codemirror_mode": {
    "name": "ipython",
    "version": 3
   },
   "file_extension": ".py",
   "mimetype": "text/x-python",
   "name": "python",
   "nbconvert_exporter": "python",
   "pygments_lexer": "ipython3",
   "version": "3.10.16"
  }
 },
 "nbformat": 4,
 "nbformat_minor": 5
}
