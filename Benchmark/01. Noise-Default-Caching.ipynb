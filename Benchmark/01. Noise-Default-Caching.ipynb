{
 "cells": [
  {
   "cell_type": "code",
   "execution_count": 1,
   "id": "b7393823-9084-4f53-ba91-d80d3578059a",
   "metadata": {},
   "outputs": [],
   "source": [
    "import tensorflow as tf\n",
    "import numpy as np\n",
    "import time\n",
    "import psutil\n",
    "import os\n",
    "from tensorflow.keras.applications import NASNetMobile\n",
    "from tensorflow.keras.models import Model\n",
    "import pandas as pd"
   ]
  },
  {
   "cell_type": "code",
   "execution_count": 2,
   "id": "696bd5b1-05c2-4034-8537-2af58081899c",
   "metadata": {},
   "outputs": [
    {
     "name": "stderr",
     "output_type": "stream",
     "text": [
      "2025-02-05 11:51:30.224731: I metal_plugin/src/device/metal_device.cc:1154] Metal device set to: Apple M3 Pro\n",
      "2025-02-05 11:51:30.224753: I metal_plugin/src/device/metal_device.cc:296] systemMemory: 18.00 GB\n",
      "2025-02-05 11:51:30.224757: I metal_plugin/src/device/metal_device.cc:313] maxCacheSize: 6.00 GB\n",
      "2025-02-05 11:51:30.224924: I tensorflow/core/common_runtime/pluggable_device/pluggable_device_factory.cc:305] Could not identify NUMA node of platform GPU ID 0, defaulting to 0. Your kernel may not have been built with NUMA support.\n",
      "2025-02-05 11:51:30.224933: I tensorflow/core/common_runtime/pluggable_device/pluggable_device_factory.cc:271] Created TensorFlow device (/job:localhost/replica:0/task:0/device:GPU:0 with 0 MB memory) -> physical PluggableDevice (device: 0, name: METAL, pci bus id: <undefined>)\n"
     ]
    }
   ],
   "source": [
    "# Ensure TensorFlow only uses a limited amount of GPU memory\n",
    "gpus = tf.config.experimental.list_physical_devices('GPU')\n",
    "if gpus:\n",
    "    for gpu in gpus:\n",
    "        tf.config.experimental.set_memory_growth(gpu, True)\n",
    "\n",
    "# Define batch sizes and number of runs\n",
    "BATCH_SIZES = [1, 4, 8, 16, 32, 64]\n",
    "NUM_RUNS = 5  # Runs per batch size\n",
    "\n",
    "# Load NASNet model\n",
    "base_model = NASNetMobile(weights='imagenet', input_shape=(224, 224, 3))\n",
    "\n",
    "# Create a model that outputs intermediate layer results\n",
    "layer_outputs = [layer.output for layer in base_model.layers]\n",
    "model = Model(inputs=base_model.input, outputs=layer_outputs)\n",
    "\n",
    "# Precompile TensorFlow functions for performance\n",
    "@tf.function\n",
    "def run_inference(input_tensor):\n",
    "    return model(input_tensor)"
   ]
  },
  {
   "cell_type": "code",
   "execution_count": 3,
   "id": "3bf2fae3-8492-4725-bf65-259d1b5e9174",
   "metadata": {},
   "outputs": [],
   "source": [
    "# Function to measure inference time and memory\n",
    "def benchmark_model(device, batch_size):\n",
    "    print(f\"\\nRunning on {device} with batch size {batch_size}\")\n",
    "    results = []\n",
    "\n",
    "    for run in range(NUM_RUNS):\n",
    "        # Create random input tensor\n",
    "        input_tensor = tf.random.uniform((batch_size, 224, 224, 3), dtype=tf.float32)\n",
    "        \n",
    "        with tf.device(device):\n",
    "            #layer_times = {}\n",
    "            tensor_sizes = {}\n",
    "\n",
    "            # Warm-up to avoid cold start latency\n",
    "            _ = run_inference(input_tensor)\n",
    "\n",
    "            start_time = time.perf_counter()\n",
    "\n",
    "            # Measure Layer wise tensor size\n",
    "            output = run_inference(input_tensor)\n",
    "            \n",
    "            # Measure per-layer execution time\n",
    "            for idx, layer in enumerate(model.layers):\n",
    "                # Calculate tensor size in MB (float32 = 4 bytes)\n",
    "                tensor_size = np.prod(output[idx].shape) * 4 / (1024 ** 2)\n",
    "                tensor_sizes[layer.name] = tensor_size\n",
    "            \n",
    "            total_time = time.perf_counter() - start_time\n",
    "    \n",
    "            results.append({\n",
    "                \"device\": device,\n",
    "                \"batch_size\": batch_size,\n",
    "                \"total_time\": total_time\n",
    "            })\n",
    "\n",
    "    return results"
   ]
  },
  {
   "cell_type": "markdown",
   "id": "ce971083-6c41-428c-8b7f-4709cd3eb672",
   "metadata": {},
   "source": [
    "## Experiment Logging"
   ]
  },
  {
   "cell_type": "code",
   "execution_count": 4,
   "id": "9dee6e6d-e078-48de-98c9-aeaa75b53d8a",
   "metadata": {
    "scrolled": true
   },
   "outputs": [
    {
     "name": "stderr",
     "output_type": "stream",
     "text": [
      "2025-02-05 11:51:32.446839: I external/local_tsl/tsl/profiler/lib/profiler_session.cc:104] Profiler session initializing.\n",
      "2025-02-05 11:51:32.446847: I external/local_tsl/tsl/profiler/lib/profiler_session.cc:119] Profiler session started.\n"
     ]
    },
    {
     "name": "stdout",
     "output_type": "stream",
     "text": [
      "\n",
      "Running on /CPU:0 with batch size 1\n"
     ]
    },
    {
     "name": "stderr",
     "output_type": "stream",
     "text": [
      "2025-02-05 11:51:34.084573: I tensorflow/core/grappler/optimizers/custom_graph_optimizer_registry.cc:117] Plugin optimizer for device_type GPU is enabled.\n",
      "2025-02-05 11:51:35.061203: I external/local_tsl/tsl/profiler/lib/profiler_session.cc:70] Profiler session collecting data.\n",
      "2025-02-05 11:51:35.128783: I external/local_tsl/tsl/profiler/lib/profiler_session.cc:131] Profiler session tear down.\n",
      "2025-02-05 11:51:35.129939: I external/local_tsl/tsl/profiler/rpc/client/save_profile.cc:144] Collecting XSpace to repository: logs/Noise/CPU/1/plugins/profile/2025_02_05_11_51_35/C17586.xplane.pb\n",
      "2025-02-05 11:51:35.138070: I external/local_tsl/tsl/profiler/lib/profiler_session.cc:104] Profiler session initializing.\n",
      "2025-02-05 11:51:35.138076: I external/local_tsl/tsl/profiler/lib/profiler_session.cc:119] Profiler session started.\n"
     ]
    },
    {
     "name": "stdout",
     "output_type": "stream",
     "text": [
      "\n",
      "Running on /CPU:0 with batch size 4\n"
     ]
    },
    {
     "name": "stderr",
     "output_type": "stream",
     "text": [
      "2025-02-05 11:51:38.069338: I external/local_tsl/tsl/profiler/lib/profiler_session.cc:70] Profiler session collecting data.\n",
      "2025-02-05 11:51:38.138986: I external/local_tsl/tsl/profiler/lib/profiler_session.cc:131] Profiler session tear down.\n",
      "2025-02-05 11:51:38.139225: I external/local_tsl/tsl/profiler/rpc/client/save_profile.cc:144] Collecting XSpace to repository: logs/Noise/CPU/4/plugins/profile/2025_02_05_11_51_38/C17586.xplane.pb\n",
      "2025-02-05 11:51:38.147580: I external/local_tsl/tsl/profiler/lib/profiler_session.cc:104] Profiler session initializing.\n",
      "2025-02-05 11:51:38.147585: I external/local_tsl/tsl/profiler/lib/profiler_session.cc:119] Profiler session started.\n"
     ]
    },
    {
     "name": "stdout",
     "output_type": "stream",
     "text": [
      "\n",
      "Running on /CPU:0 with batch size 8\n"
     ]
    },
    {
     "name": "stderr",
     "output_type": "stream",
     "text": [
      "2025-02-05 11:51:41.432539: I external/local_tsl/tsl/profiler/lib/profiler_session.cc:70] Profiler session collecting data.\n",
      "2025-02-05 11:51:41.509437: I external/local_tsl/tsl/profiler/lib/profiler_session.cc:131] Profiler session tear down.\n",
      "2025-02-05 11:51:41.509649: I external/local_tsl/tsl/profiler/rpc/client/save_profile.cc:144] Collecting XSpace to repository: logs/Noise/CPU/8/plugins/profile/2025_02_05_11_51_41/C17586.xplane.pb\n",
      "2025-02-05 11:51:41.518980: I external/local_tsl/tsl/profiler/lib/profiler_session.cc:104] Profiler session initializing.\n",
      "2025-02-05 11:51:41.518986: I external/local_tsl/tsl/profiler/lib/profiler_session.cc:119] Profiler session started.\n"
     ]
    },
    {
     "name": "stdout",
     "output_type": "stream",
     "text": [
      "\n",
      "Running on /CPU:0 with batch size 16\n"
     ]
    },
    {
     "name": "stderr",
     "output_type": "stream",
     "text": [
      "2025-02-05 11:51:45.447164: I external/local_tsl/tsl/profiler/lib/profiler_session.cc:70] Profiler session collecting data.\n",
      "2025-02-05 11:51:45.526043: I external/local_tsl/tsl/profiler/lib/profiler_session.cc:131] Profiler session tear down.\n",
      "2025-02-05 11:51:45.526303: I external/local_tsl/tsl/profiler/rpc/client/save_profile.cc:144] Collecting XSpace to repository: logs/Noise/CPU/16/plugins/profile/2025_02_05_11_51_45/C17586.xplane.pb\n",
      "2025-02-05 11:51:45.534342: I external/local_tsl/tsl/profiler/lib/profiler_session.cc:104] Profiler session initializing.\n",
      "2025-02-05 11:51:45.534350: I external/local_tsl/tsl/profiler/lib/profiler_session.cc:119] Profiler session started.\n"
     ]
    },
    {
     "name": "stdout",
     "output_type": "stream",
     "text": [
      "\n",
      "Running on /CPU:0 with batch size 32\n"
     ]
    },
    {
     "name": "stderr",
     "output_type": "stream",
     "text": [
      "2025-02-05 11:51:53.336448: I external/local_tsl/tsl/profiler/lib/profiler_session.cc:70] Profiler session collecting data.\n",
      "2025-02-05 11:51:53.420482: I external/local_tsl/tsl/profiler/lib/profiler_session.cc:131] Profiler session tear down.\n",
      "2025-02-05 11:51:53.420775: I external/local_tsl/tsl/profiler/rpc/client/save_profile.cc:144] Collecting XSpace to repository: logs/Noise/CPU/32/plugins/profile/2025_02_05_11_51_53/C17586.xplane.pb\n",
      "2025-02-05 11:51:53.429536: I external/local_tsl/tsl/profiler/lib/profiler_session.cc:104] Profiler session initializing.\n",
      "2025-02-05 11:51:53.429542: I external/local_tsl/tsl/profiler/lib/profiler_session.cc:119] Profiler session started.\n"
     ]
    },
    {
     "name": "stdout",
     "output_type": "stream",
     "text": [
      "\n",
      "Running on /CPU:0 with batch size 64\n"
     ]
    },
    {
     "name": "stderr",
     "output_type": "stream",
     "text": [
      "2025-02-05 11:52:10.569470: I external/local_tsl/tsl/profiler/lib/profiler_session.cc:70] Profiler session collecting data.\n",
      "2025-02-05 11:52:10.683537: I external/local_tsl/tsl/profiler/lib/profiler_session.cc:131] Profiler session tear down.\n",
      "2025-02-05 11:52:10.684254: I external/local_tsl/tsl/profiler/rpc/client/save_profile.cc:144] Collecting XSpace to repository: logs/Noise/CPU/64/plugins/profile/2025_02_05_11_52_10/C17586.xplane.pb\n",
      "2025-02-05 11:52:10.694379: I external/local_tsl/tsl/profiler/lib/profiler_session.cc:104] Profiler session initializing.\n",
      "2025-02-05 11:52:10.694389: I external/local_tsl/tsl/profiler/lib/profiler_session.cc:119] Profiler session started.\n"
     ]
    },
    {
     "name": "stdout",
     "output_type": "stream",
     "text": [
      "\n",
      "Running on /GPU:0 with batch size 1\n"
     ]
    },
    {
     "name": "stderr",
     "output_type": "stream",
     "text": [
      "2025-02-05 11:52:17.296592: I external/local_tsl/tsl/profiler/lib/profiler_session.cc:70] Profiler session collecting data.\n",
      "2025-02-05 11:52:17.309687: I external/local_tsl/tsl/profiler/lib/profiler_session.cc:131] Profiler session tear down.\n",
      "2025-02-05 11:52:17.309937: I external/local_tsl/tsl/profiler/rpc/client/save_profile.cc:144] Collecting XSpace to repository: logs/Noise/GPU/1/plugins/profile/2025_02_05_11_52_17/C17586.xplane.pb\n",
      "2025-02-05 11:52:17.311240: I external/local_tsl/tsl/profiler/lib/profiler_session.cc:104] Profiler session initializing.\n",
      "2025-02-05 11:52:17.311243: I external/local_tsl/tsl/profiler/lib/profiler_session.cc:119] Profiler session started.\n"
     ]
    },
    {
     "name": "stdout",
     "output_type": "stream",
     "text": [
      "\n",
      "Running on /GPU:0 with batch size 4\n"
     ]
    },
    {
     "name": "stderr",
     "output_type": "stream",
     "text": [
      "2025-02-05 11:52:29.314168: I external/local_tsl/tsl/profiler/lib/profiler_session.cc:70] Profiler session collecting data.\n",
      "2025-02-05 11:52:29.328357: I external/local_tsl/tsl/profiler/lib/profiler_session.cc:131] Profiler session tear down.\n",
      "2025-02-05 11:52:29.328569: I external/local_tsl/tsl/profiler/rpc/client/save_profile.cc:144] Collecting XSpace to repository: logs/Noise/GPU/4/plugins/profile/2025_02_05_11_52_29/C17586.xplane.pb\n",
      "2025-02-05 11:52:29.329878: I external/local_tsl/tsl/profiler/lib/profiler_session.cc:104] Profiler session initializing.\n",
      "2025-02-05 11:52:29.329881: I external/local_tsl/tsl/profiler/lib/profiler_session.cc:119] Profiler session started.\n"
     ]
    },
    {
     "name": "stdout",
     "output_type": "stream",
     "text": [
      "\n",
      "Running on /GPU:0 with batch size 8\n"
     ]
    },
    {
     "name": "stderr",
     "output_type": "stream",
     "text": [
      "2025-02-05 11:52:54.317878: I external/local_tsl/tsl/profiler/lib/profiler_session.cc:70] Profiler session collecting data.\n",
      "2025-02-05 11:52:54.329833: I external/local_tsl/tsl/profiler/lib/profiler_session.cc:131] Profiler session tear down.\n",
      "2025-02-05 11:52:54.330037: I external/local_tsl/tsl/profiler/rpc/client/save_profile.cc:144] Collecting XSpace to repository: logs/Noise/GPU/8/plugins/profile/2025_02_05_11_52_54/C17586.xplane.pb\n",
      "2025-02-05 11:52:54.331730: I external/local_tsl/tsl/profiler/lib/profiler_session.cc:104] Profiler session initializing.\n",
      "2025-02-05 11:52:54.331733: I external/local_tsl/tsl/profiler/lib/profiler_session.cc:119] Profiler session started.\n"
     ]
    },
    {
     "name": "stdout",
     "output_type": "stream",
     "text": [
      "\n",
      "Running on /GPU:0 with batch size 16\n"
     ]
    },
    {
     "name": "stderr",
     "output_type": "stream",
     "text": [
      "2025-02-05 11:53:31.860210: I external/local_tsl/tsl/profiler/lib/profiler_session.cc:70] Profiler session collecting data.\n",
      "2025-02-05 11:53:31.885416: I external/local_tsl/tsl/profiler/lib/profiler_session.cc:131] Profiler session tear down.\n",
      "2025-02-05 11:53:31.885674: I external/local_tsl/tsl/profiler/rpc/client/save_profile.cc:144] Collecting XSpace to repository: logs/Noise/GPU/16/plugins/profile/2025_02_05_11_53_31/C17586.xplane.pb\n",
      "2025-02-05 11:53:31.887312: I external/local_tsl/tsl/profiler/lib/profiler_session.cc:104] Profiler session initializing.\n",
      "2025-02-05 11:53:31.887315: I external/local_tsl/tsl/profiler/lib/profiler_session.cc:119] Profiler session started.\n"
     ]
    },
    {
     "name": "stdout",
     "output_type": "stream",
     "text": [
      "\n",
      "Running on /GPU:0 with batch size 32\n"
     ]
    },
    {
     "name": "stderr",
     "output_type": "stream",
     "text": [
      "2025-02-05 11:53:47.987022: I external/local_tsl/tsl/profiler/lib/profiler_session.cc:70] Profiler session collecting data.\n",
      "2025-02-05 11:53:48.011695: I external/local_tsl/tsl/profiler/lib/profiler_session.cc:131] Profiler session tear down.\n",
      "2025-02-05 11:53:48.012017: I external/local_tsl/tsl/profiler/rpc/client/save_profile.cc:144] Collecting XSpace to repository: logs/Noise/GPU/32/plugins/profile/2025_02_05_11_53_48/C17586.xplane.pb\n",
      "2025-02-05 11:53:48.014765: I external/local_tsl/tsl/profiler/lib/profiler_session.cc:104] Profiler session initializing.\n",
      "2025-02-05 11:53:48.014772: I external/local_tsl/tsl/profiler/lib/profiler_session.cc:119] Profiler session started.\n"
     ]
    },
    {
     "name": "stdout",
     "output_type": "stream",
     "text": [
      "\n",
      "Running on /GPU:0 with batch size 64\n"
     ]
    },
    {
     "name": "stderr",
     "output_type": "stream",
     "text": [
      "2025-02-05 11:55:07.469432: I external/local_tsl/tsl/profiler/lib/profiler_session.cc:70] Profiler session collecting data.\n",
      "2025-02-05 11:55:07.642889: I external/local_tsl/tsl/profiler/lib/profiler_session.cc:131] Profiler session tear down.\n",
      "2025-02-05 11:55:07.656136: I external/local_tsl/tsl/profiler/rpc/client/save_profile.cc:144] Collecting XSpace to repository: logs/Noise/GPU/64/plugins/profile/2025_02_05_11_55_07/C17586.xplane.pb\n"
     ]
    }
   ],
   "source": [
    "# Run benchmarks for CPU and GPU (if available)\n",
    "devices = [\"/CPU:0\"]\n",
    "if gpus:\n",
    "    devices.append(\"/GPU:0\")\n",
    "\n",
    "final_results = []\n",
    "for device in devices:\n",
    "    for batch_size in BATCH_SIZES:\n",
    "        try:\n",
    "            tf.profiler.experimental.start(f\"logs/Noise/{device[1:4]}/{batch_size}\")\n",
    "            final_results.extend(benchmark_model(device, batch_size))\n",
    "        finally:\n",
    "            tf.profiler.experimental.stop()"
   ]
  },
  {
   "cell_type": "markdown",
   "id": "f683f918-bf38-476e-8105-f3412daa03a1",
   "metadata": {},
   "source": [
    "## Results"
   ]
  },
  {
   "cell_type": "code",
   "execution_count": 5,
   "id": "b89c2cdf-e266-49e0-ba22-1cd44079a2c2",
   "metadata": {},
   "outputs": [
    {
     "data": {
      "text/html": [
       "<div>\n",
       "<style scoped>\n",
       "    .dataframe tbody tr th:only-of-type {\n",
       "        vertical-align: middle;\n",
       "    }\n",
       "\n",
       "    .dataframe tbody tr th {\n",
       "        vertical-align: top;\n",
       "    }\n",
       "\n",
       "    .dataframe thead th {\n",
       "        text-align: right;\n",
       "    }\n",
       "</style>\n",
       "<table border=\"1\" class=\"dataframe\">\n",
       "  <thead>\n",
       "    <tr style=\"text-align: right;\">\n",
       "      <th></th>\n",
       "      <th>device</th>\n",
       "      <th>batch_size</th>\n",
       "      <th>total_time</th>\n",
       "    </tr>\n",
       "  </thead>\n",
       "  <tbody>\n",
       "    <tr>\n",
       "      <th>0</th>\n",
       "      <td>/CPU:0</td>\n",
       "      <td>1</td>\n",
       "      <td>0.036004</td>\n",
       "    </tr>\n",
       "    <tr>\n",
       "      <th>1</th>\n",
       "      <td>/CPU:0</td>\n",
       "      <td>1</td>\n",
       "      <td>0.045836</td>\n",
       "    </tr>\n",
       "    <tr>\n",
       "      <th>2</th>\n",
       "      <td>/CPU:0</td>\n",
       "      <td>1</td>\n",
       "      <td>0.035039</td>\n",
       "    </tr>\n",
       "    <tr>\n",
       "      <th>3</th>\n",
       "      <td>/CPU:0</td>\n",
       "      <td>1</td>\n",
       "      <td>0.032458</td>\n",
       "    </tr>\n",
       "    <tr>\n",
       "      <th>4</th>\n",
       "      <td>/CPU:0</td>\n",
       "      <td>1</td>\n",
       "      <td>0.031932</td>\n",
       "    </tr>\n",
       "  </tbody>\n",
       "</table>\n",
       "</div>"
      ],
      "text/plain": [
       "   device  batch_size  total_time\n",
       "0  /CPU:0           1    0.036004\n",
       "1  /CPU:0           1    0.045836\n",
       "2  /CPU:0           1    0.035039\n",
       "3  /CPU:0           1    0.032458\n",
       "4  /CPU:0           1    0.031932"
      ]
     },
     "execution_count": 5,
     "metadata": {},
     "output_type": "execute_result"
    }
   ],
   "source": [
    "df = pd.DataFrame(final_results)\n",
    "df.head()"
   ]
  },
  {
   "cell_type": "code",
   "execution_count": 6,
   "id": "fa9939fb-12b7-4db5-8ea2-b6b62549cddb",
   "metadata": {},
   "outputs": [
    {
     "data": {
      "text/html": [
       "<div>\n",
       "<style scoped>\n",
       "    .dataframe tbody tr th:only-of-type {\n",
       "        vertical-align: middle;\n",
       "    }\n",
       "\n",
       "    .dataframe tbody tr th {\n",
       "        vertical-align: top;\n",
       "    }\n",
       "\n",
       "    .dataframe thead tr th {\n",
       "        text-align: left;\n",
       "    }\n",
       "\n",
       "    .dataframe thead tr:last-of-type th {\n",
       "        text-align: right;\n",
       "    }\n",
       "</style>\n",
       "<table border=\"1\" class=\"dataframe\">\n",
       "  <thead>\n",
       "    <tr>\n",
       "      <th></th>\n",
       "      <th></th>\n",
       "      <th colspan=\"4\" halign=\"left\">total_time</th>\n",
       "    </tr>\n",
       "    <tr>\n",
       "      <th></th>\n",
       "      <th></th>\n",
       "      <th>min</th>\n",
       "      <th>mean</th>\n",
       "      <th>var</th>\n",
       "      <th>max</th>\n",
       "    </tr>\n",
       "    <tr>\n",
       "      <th>device</th>\n",
       "      <th>batch_size</th>\n",
       "      <th></th>\n",
       "      <th></th>\n",
       "      <th></th>\n",
       "      <th></th>\n",
       "    </tr>\n",
       "  </thead>\n",
       "  <tbody>\n",
       "    <tr>\n",
       "      <th rowspan=\"6\" valign=\"top\">/CPU:0</th>\n",
       "      <th>1</th>\n",
       "      <td>0.031932</td>\n",
       "      <td>0.036254</td>\n",
       "      <td>0.000032</td>\n",
       "      <td>0.045836</td>\n",
       "    </tr>\n",
       "    <tr>\n",
       "      <th>4</th>\n",
       "      <td>0.063843</td>\n",
       "      <td>0.066628</td>\n",
       "      <td>0.000006</td>\n",
       "      <td>0.070057</td>\n",
       "    </tr>\n",
       "    <tr>\n",
       "      <th>8</th>\n",
       "      <td>0.088682</td>\n",
       "      <td>0.092413</td>\n",
       "      <td>0.000012</td>\n",
       "      <td>0.095950</td>\n",
       "    </tr>\n",
       "    <tr>\n",
       "      <th>16</th>\n",
       "      <td>0.146524</td>\n",
       "      <td>0.162206</td>\n",
       "      <td>0.000162</td>\n",
       "      <td>0.180534</td>\n",
       "    </tr>\n",
       "    <tr>\n",
       "      <th>32</th>\n",
       "      <td>0.454610</td>\n",
       "      <td>0.485009</td>\n",
       "      <td>0.001156</td>\n",
       "      <td>0.539084</td>\n",
       "    </tr>\n",
       "    <tr>\n",
       "      <th>64</th>\n",
       "      <td>1.353778</td>\n",
       "      <td>1.486213</td>\n",
       "      <td>0.018460</td>\n",
       "      <td>1.679982</td>\n",
       "    </tr>\n",
       "    <tr>\n",
       "      <th rowspan=\"6\" valign=\"top\">/GPU:0</th>\n",
       "      <th>1</th>\n",
       "      <td>0.084557</td>\n",
       "      <td>0.090899</td>\n",
       "      <td>0.000071</td>\n",
       "      <td>0.104635</td>\n",
       "    </tr>\n",
       "    <tr>\n",
       "      <th>4</th>\n",
       "      <td>0.091157</td>\n",
       "      <td>0.095121</td>\n",
       "      <td>0.000059</td>\n",
       "      <td>0.108790</td>\n",
       "    </tr>\n",
       "    <tr>\n",
       "      <th>8</th>\n",
       "      <td>0.089755</td>\n",
       "      <td>0.095591</td>\n",
       "      <td>0.000086</td>\n",
       "      <td>0.112061</td>\n",
       "    </tr>\n",
       "    <tr>\n",
       "      <th>16</th>\n",
       "      <td>0.089733</td>\n",
       "      <td>0.163743</td>\n",
       "      <td>0.012225</td>\n",
       "      <td>0.341366</td>\n",
       "    </tr>\n",
       "    <tr>\n",
       "      <th>32</th>\n",
       "      <td>0.140988</td>\n",
       "      <td>1.634943</td>\n",
       "      <td>10.354440</td>\n",
       "      <td>7.389127</td>\n",
       "    </tr>\n",
       "    <tr>\n",
       "      <th>64</th>\n",
       "      <td>0.985863</td>\n",
       "      <td>1.231255</td>\n",
       "      <td>0.086847</td>\n",
       "      <td>1.729435</td>\n",
       "    </tr>\n",
       "  </tbody>\n",
       "</table>\n",
       "</div>"
      ],
      "text/plain": [
       "                  total_time                               \n",
       "                         min      mean        var       max\n",
       "device batch_size                                          \n",
       "/CPU:0 1            0.031932  0.036254   0.000032  0.045836\n",
       "       4            0.063843  0.066628   0.000006  0.070057\n",
       "       8            0.088682  0.092413   0.000012  0.095950\n",
       "       16           0.146524  0.162206   0.000162  0.180534\n",
       "       32           0.454610  0.485009   0.001156  0.539084\n",
       "       64           1.353778  1.486213   0.018460  1.679982\n",
       "/GPU:0 1            0.084557  0.090899   0.000071  0.104635\n",
       "       4            0.091157  0.095121   0.000059  0.108790\n",
       "       8            0.089755  0.095591   0.000086  0.112061\n",
       "       16           0.089733  0.163743   0.012225  0.341366\n",
       "       32           0.140988  1.634943  10.354440  7.389127\n",
       "       64           0.985863  1.231255   0.086847  1.729435"
      ]
     },
     "execution_count": 6,
     "metadata": {},
     "output_type": "execute_result"
    }
   ],
   "source": [
    "df.groupby(['device', 'batch_size']).agg({'total_time': ['min', 'mean', 'var', 'max']})"
   ]
  },
  {
   "cell_type": "code",
   "execution_count": null,
   "id": "0769886b-f85f-489f-ad64-b263751231d9",
   "metadata": {},
   "outputs": [],
   "source": []
  }
 ],
 "metadata": {
  "kernelspec": {
   "display_name": "Python 3 (ipykernel)",
   "language": "python",
   "name": "python3"
  },
  "language_info": {
   "codemirror_mode": {
    "name": "ipython",
    "version": 3
   },
   "file_extension": ".py",
   "mimetype": "text/x-python",
   "name": "python",
   "nbconvert_exporter": "python",
   "pygments_lexer": "ipython3",
   "version": "3.10.16"
  }
 },
 "nbformat": 4,
 "nbformat_minor": 5
}
