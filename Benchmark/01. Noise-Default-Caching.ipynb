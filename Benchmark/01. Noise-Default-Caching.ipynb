{
 "cells": [
  {
   "cell_type": "code",
   "execution_count": 2,
   "id": "b7393823-9084-4f53-ba91-d80d3578059a",
   "metadata": {},
   "outputs": [],
   "source": [
    "import tensorflow as tf\n",
    "import numpy as np\n",
    "import time\n",
    "import psutil\n",
    "import os\n",
    "from tensorflow.keras.applications import NASNetMobile\n",
    "from tensorflow.keras.models import Model\n",
    "import pandas as pd"
   ]
  },
  {
   "cell_type": "code",
   "execution_count": 3,
   "id": "696bd5b1-05c2-4034-8537-2af58081899c",
   "metadata": {},
   "outputs": [
    {
     "name": "stderr",
     "output_type": "stream",
     "text": [
      "2025-02-05 14:43:45.000175: I metal_plugin/src/device/metal_device.cc:1154] Metal device set to: Apple M3 Pro\n",
      "2025-02-05 14:43:45.000191: I metal_plugin/src/device/metal_device.cc:296] systemMemory: 18.00 GB\n",
      "2025-02-05 14:43:45.000195: I metal_plugin/src/device/metal_device.cc:313] maxCacheSize: 6.00 GB\n",
      "2025-02-05 14:43:45.000208: I tensorflow/core/common_runtime/pluggable_device/pluggable_device_factory.cc:305] Could not identify NUMA node of platform GPU ID 0, defaulting to 0. Your kernel may not have been built with NUMA support.\n",
      "2025-02-05 14:43:45.000216: I tensorflow/core/common_runtime/pluggable_device/pluggable_device_factory.cc:271] Created TensorFlow device (/job:localhost/replica:0/task:0/device:GPU:0 with 0 MB memory) -> physical PluggableDevice (device: 0, name: METAL, pci bus id: <undefined>)\n"
     ]
    }
   ],
   "source": [
    "# Ensure TensorFlow only uses a limited amount of GPU memory\n",
    "gpus = tf.config.experimental.list_physical_devices('GPU')\n",
    "if gpus:\n",
    "    for gpu in gpus:\n",
    "        tf.config.experimental.set_memory_growth(gpu, True)\n",
    "\n",
    "# Define batch sizes and number of runs\n",
    "BATCH_SIZES = [1, 4, 8, 16, 32, 64]\n",
    "NUM_RUNS = 10  # Runs per batch size\n",
    "\n",
    "# Load NASNet model\n",
    "base_model = NASNetMobile(weights='imagenet', input_shape=(224, 224, 3))\n",
    "\n",
    "# Create a model that outputs intermediate layer results\n",
    "layer_outputs = [layer.output for layer in base_model.layers]\n",
    "model = Model(inputs=base_model.input, outputs=layer_outputs)\n",
    "\n",
    "# Precompile TensorFlow functions for performance\n",
    "@tf.function\n",
    "def run_inference(input_tensor):\n",
    "    return model(input_tensor)"
   ]
  },
  {
   "cell_type": "code",
   "execution_count": 4,
   "id": "3bf2fae3-8492-4725-bf65-259d1b5e9174",
   "metadata": {},
   "outputs": [],
   "source": [
    "# Function to measure inference time and memory\n",
    "def benchmark_model(device, batch_size):\n",
    "    print(f\"\\nRunning on {device} with batch size {batch_size}\")\n",
    "    results = []\n",
    "\n",
    "    for run in range(NUM_RUNS):\n",
    "        # Create random input tensor\n",
    "        input_tensor = tf.random.uniform((batch_size, 224, 224, 3), dtype=tf.float32)\n",
    "        \n",
    "        with tf.device(device):\n",
    "            #layer_times = {}\n",
    "            tensor_sizes = {}\n",
    "\n",
    "            # Warm-up to avoid cold start latency\n",
    "            _ = run_inference(input_tensor)\n",
    "\n",
    "            start_time = time.perf_counter()\n",
    "\n",
    "            # Measure Layer wise tensor size\n",
    "            output = run_inference(input_tensor)\n",
    "            \n",
    "            # Measure per-layer execution time\n",
    "            for idx, layer in enumerate(model.layers):\n",
    "                # Calculate tensor size in MB (float32 = 4 bytes)\n",
    "                tensor_size = np.prod(output[idx].shape) * 4 / (1024 ** 2)\n",
    "                tensor_sizes[layer.name] = tensor_size\n",
    "            \n",
    "            total_time = time.perf_counter() - start_time\n",
    "    \n",
    "            results.append({\n",
    "                \"device\": device,\n",
    "                \"batch_size\": batch_size,\n",
    "                \"total_time\": total_time\n",
    "            })\n",
    "\n",
    "    return results"
   ]
  },
  {
   "cell_type": "markdown",
   "id": "ce971083-6c41-428c-8b7f-4709cd3eb672",
   "metadata": {},
   "source": [
    "## Experiment Logging"
   ]
  },
  {
   "cell_type": "code",
   "execution_count": 5,
   "id": "9dee6e6d-e078-48de-98c9-aeaa75b53d8a",
   "metadata": {
    "scrolled": true
   },
   "outputs": [
    {
     "name": "stdout",
     "output_type": "stream",
     "text": [
      "\n",
      "Running on /CPU:0 with batch size 1\n"
     ]
    },
    {
     "name": "stderr",
     "output_type": "stream",
     "text": [
      "2025-02-05 14:43:47.289082: I external/local_tsl/tsl/profiler/lib/profiler_session.cc:104] Profiler session initializing.\n",
      "2025-02-05 14:43:47.289091: I external/local_tsl/tsl/profiler/lib/profiler_session.cc:119] Profiler session started.\n",
      "2025-02-05 14:43:49.014830: I tensorflow/core/grappler/optimizers/custom_graph_optimizer_registry.cc:117] Plugin optimizer for device_type GPU is enabled.\n",
      "2025-02-05 14:43:50.411782: I external/local_tsl/tsl/profiler/lib/profiler_session.cc:70] Profiler session collecting data.\n",
      "2025-02-05 14:43:50.999991: I external/local_tsl/tsl/profiler/lib/profiler_session.cc:131] Profiler session tear down.\n",
      "2025-02-05 14:43:51.000472: I external/local_tsl/tsl/profiler/rpc/client/save_profile.cc:144] Collecting XSpace to repository: logs/Noise/Cache/CPU/1/plugins/profile/2025_02_05_14_43_51/C17586.xplane.pb\n",
      "2025-02-05 14:43:51.068855: I external/local_tsl/tsl/profiler/lib/profiler_session.cc:104] Profiler session initializing.\n",
      "2025-02-05 14:43:51.068865: I external/local_tsl/tsl/profiler/lib/profiler_session.cc:119] Profiler session started.\n"
     ]
    },
    {
     "name": "stdout",
     "output_type": "stream",
     "text": [
      "\n",
      "Running on /CPU:0 with batch size 4\n"
     ]
    },
    {
     "name": "stderr",
     "output_type": "stream",
     "text": [
      "2025-02-05 14:43:54.707511: I external/local_tsl/tsl/profiler/lib/profiler_session.cc:70] Profiler session collecting data.\n",
      "2025-02-05 14:43:55.299793: I external/local_tsl/tsl/profiler/lib/profiler_session.cc:131] Profiler session tear down.\n",
      "2025-02-05 14:43:55.300048: I external/local_tsl/tsl/profiler/rpc/client/save_profile.cc:144] Collecting XSpace to repository: logs/Noise/Cache/CPU/4/plugins/profile/2025_02_05_14_43_55/C17586.xplane.pb\n",
      "2025-02-05 14:43:55.367429: I external/local_tsl/tsl/profiler/lib/profiler_session.cc:104] Profiler session initializing.\n",
      "2025-02-05 14:43:55.367441: I external/local_tsl/tsl/profiler/lib/profiler_session.cc:119] Profiler session started.\n"
     ]
    },
    {
     "name": "stdout",
     "output_type": "stream",
     "text": [
      "\n",
      "Running on /CPU:0 with batch size 8\n"
     ]
    },
    {
     "name": "stderr",
     "output_type": "stream",
     "text": [
      "2025-02-05 14:43:59.563514: I external/local_tsl/tsl/profiler/lib/profiler_session.cc:70] Profiler session collecting data.\n",
      "2025-02-05 14:44:00.159605: I external/local_tsl/tsl/profiler/lib/profiler_session.cc:131] Profiler session tear down.\n",
      "2025-02-05 14:44:00.159887: I external/local_tsl/tsl/profiler/rpc/client/save_profile.cc:144] Collecting XSpace to repository: logs/Noise/Cache/CPU/8/plugins/profile/2025_02_05_14_44_00/C17586.xplane.pb\n",
      "2025-02-05 14:44:00.226903: I external/local_tsl/tsl/profiler/lib/profiler_session.cc:104] Profiler session initializing.\n",
      "2025-02-05 14:44:00.226915: I external/local_tsl/tsl/profiler/lib/profiler_session.cc:119] Profiler session started.\n"
     ]
    },
    {
     "name": "stdout",
     "output_type": "stream",
     "text": [
      "\n",
      "Running on /CPU:0 with batch size 16\n"
     ]
    },
    {
     "name": "stderr",
     "output_type": "stream",
     "text": [
      "2025-02-05 14:44:05.638513: I external/local_tsl/tsl/profiler/lib/profiler_session.cc:70] Profiler session collecting data.\n",
      "2025-02-05 14:44:06.247496: I external/local_tsl/tsl/profiler/lib/profiler_session.cc:131] Profiler session tear down.\n",
      "2025-02-05 14:44:06.247763: I external/local_tsl/tsl/profiler/rpc/client/save_profile.cc:144] Collecting XSpace to repository: logs/Noise/Cache/CPU/16/plugins/profile/2025_02_05_14_44_06/C17586.xplane.pb\n",
      "2025-02-05 14:44:06.314219: I external/local_tsl/tsl/profiler/lib/profiler_session.cc:104] Profiler session initializing.\n",
      "2025-02-05 14:44:06.314233: I external/local_tsl/tsl/profiler/lib/profiler_session.cc:119] Profiler session started.\n"
     ]
    },
    {
     "name": "stdout",
     "output_type": "stream",
     "text": [
      "\n",
      "Running on /CPU:0 with batch size 32\n"
     ]
    },
    {
     "name": "stderr",
     "output_type": "stream",
     "text": [
      "2025-02-05 14:44:14.505006: I external/local_tsl/tsl/profiler/lib/profiler_session.cc:70] Profiler session collecting data.\n",
      "2025-02-05 14:44:15.132634: I external/local_tsl/tsl/profiler/lib/profiler_session.cc:131] Profiler session tear down.\n",
      "2025-02-05 14:44:15.132927: I external/local_tsl/tsl/profiler/rpc/client/save_profile.cc:144] Collecting XSpace to repository: logs/Noise/Cache/CPU/32/plugins/profile/2025_02_05_14_44_15/C17586.xplane.pb\n",
      "2025-02-05 14:44:15.198360: I external/local_tsl/tsl/profiler/lib/profiler_session.cc:104] Profiler session initializing.\n",
      "2025-02-05 14:44:15.198376: I external/local_tsl/tsl/profiler/lib/profiler_session.cc:119] Profiler session started.\n"
     ]
    },
    {
     "name": "stdout",
     "output_type": "stream",
     "text": [
      "\n",
      "Running on /CPU:0 with batch size 64\n"
     ]
    },
    {
     "name": "stderr",
     "output_type": "stream",
     "text": [
      "2025-02-05 14:44:46.475240: I external/local_tsl/tsl/profiler/lib/profiler_session.cc:70] Profiler session collecting data.\n",
      "2025-02-05 14:44:47.407387: I external/local_tsl/tsl/profiler/lib/profiler_session.cc:131] Profiler session tear down.\n",
      "2025-02-05 14:44:47.409155: I external/local_tsl/tsl/profiler/rpc/client/save_profile.cc:144] Collecting XSpace to repository: logs/Noise/Cache/CPU/64/plugins/profile/2025_02_05_14_44_47/C17586.xplane.pb\n",
      "2025-02-05 14:44:47.478568: I external/local_tsl/tsl/profiler/lib/profiler_session.cc:104] Profiler session initializing.\n",
      "2025-02-05 14:44:47.478577: I external/local_tsl/tsl/profiler/lib/profiler_session.cc:119] Profiler session started.\n"
     ]
    },
    {
     "name": "stdout",
     "output_type": "stream",
     "text": [
      "\n",
      "Running on /GPU:0 with batch size 1\n"
     ]
    },
    {
     "name": "stderr",
     "output_type": "stream",
     "text": [
      "2025-02-05 14:44:54.751746: I external/local_tsl/tsl/profiler/lib/profiler_session.cc:70] Profiler session collecting data.\n",
      "2025-02-05 14:44:55.043196: I external/local_tsl/tsl/profiler/lib/profiler_session.cc:131] Profiler session tear down.\n",
      "2025-02-05 14:44:55.043499: I external/local_tsl/tsl/profiler/rpc/client/save_profile.cc:144] Collecting XSpace to repository: logs/Noise/Cache/GPU/1/plugins/profile/2025_02_05_14_44_55/C17586.xplane.pb\n",
      "2025-02-05 14:44:55.078635: I external/local_tsl/tsl/profiler/lib/profiler_session.cc:104] Profiler session initializing.\n",
      "2025-02-05 14:44:55.078648: I external/local_tsl/tsl/profiler/lib/profiler_session.cc:119] Profiler session started.\n"
     ]
    },
    {
     "name": "stdout",
     "output_type": "stream",
     "text": [
      "\n",
      "Running on /GPU:0 with batch size 4\n"
     ]
    },
    {
     "name": "stderr",
     "output_type": "stream",
     "text": [
      "2025-02-05 14:45:07.547151: I external/local_tsl/tsl/profiler/lib/profiler_session.cc:70] Profiler session collecting data.\n",
      "2025-02-05 14:45:07.834349: I external/local_tsl/tsl/profiler/lib/profiler_session.cc:131] Profiler session tear down.\n",
      "2025-02-05 14:45:07.834627: I external/local_tsl/tsl/profiler/rpc/client/save_profile.cc:144] Collecting XSpace to repository: logs/Noise/Cache/GPU/4/plugins/profile/2025_02_05_14_45_07/C17586.xplane.pb\n",
      "2025-02-05 14:45:07.869011: I external/local_tsl/tsl/profiler/lib/profiler_session.cc:104] Profiler session initializing.\n",
      "2025-02-05 14:45:07.869023: I external/local_tsl/tsl/profiler/lib/profiler_session.cc:119] Profiler session started.\n"
     ]
    },
    {
     "name": "stdout",
     "output_type": "stream",
     "text": [
      "\n",
      "Running on /GPU:0 with batch size 8\n"
     ]
    },
    {
     "name": "stderr",
     "output_type": "stream",
     "text": [
      "2025-02-05 14:45:30.639145: I external/local_tsl/tsl/profiler/lib/profiler_session.cc:70] Profiler session collecting data.\n",
      "2025-02-05 14:45:30.928587: I external/local_tsl/tsl/profiler/lib/profiler_session.cc:131] Profiler session tear down.\n",
      "2025-02-05 14:45:30.963554: I external/local_tsl/tsl/profiler/rpc/client/save_profile.cc:144] Collecting XSpace to repository: logs/Noise/Cache/GPU/8/plugins/profile/2025_02_05_14_45_30/C17586.xplane.pb\n",
      "2025-02-05 14:45:30.999105: I external/local_tsl/tsl/profiler/lib/profiler_session.cc:104] Profiler session initializing.\n",
      "2025-02-05 14:45:30.999121: I external/local_tsl/tsl/profiler/lib/profiler_session.cc:119] Profiler session started.\n"
     ]
    },
    {
     "name": "stdout",
     "output_type": "stream",
     "text": [
      "\n",
      "Running on /GPU:0 with batch size 16\n"
     ]
    },
    {
     "name": "stderr",
     "output_type": "stream",
     "text": [
      "2025-02-05 14:46:05.734062: I external/local_tsl/tsl/profiler/lib/profiler_session.cc:70] Profiler session collecting data.\n",
      "2025-02-05 14:46:06.045752: I external/local_tsl/tsl/profiler/lib/profiler_session.cc:131] Profiler session tear down.\n",
      "2025-02-05 14:46:06.046786: I external/local_tsl/tsl/profiler/rpc/client/save_profile.cc:144] Collecting XSpace to repository: logs/Noise/Cache/GPU/16/plugins/profile/2025_02_05_14_46_06/C17586.xplane.pb\n",
      "2025-02-05 14:46:06.094983: I external/local_tsl/tsl/profiler/lib/profiler_session.cc:104] Profiler session initializing.\n",
      "2025-02-05 14:46:06.095002: I external/local_tsl/tsl/profiler/lib/profiler_session.cc:119] Profiler session started.\n"
     ]
    },
    {
     "name": "stdout",
     "output_type": "stream",
     "text": [
      "\n",
      "Running on /GPU:0 with batch size 32\n"
     ]
    },
    {
     "name": "stderr",
     "output_type": "stream",
     "text": [
      "2025-02-05 14:46:16.509356: I external/local_tsl/tsl/profiler/lib/profiler_session.cc:70] Profiler session collecting data.\n",
      "2025-02-05 14:46:16.855877: I external/local_tsl/tsl/profiler/lib/profiler_session.cc:131] Profiler session tear down.\n",
      "2025-02-05 14:46:16.856247: I external/local_tsl/tsl/profiler/rpc/client/save_profile.cc:144] Collecting XSpace to repository: logs/Noise/Cache/GPU/32/plugins/profile/2025_02_05_14_46_16/C17586.xplane.pb\n",
      "2025-02-05 14:46:16.900561: I external/local_tsl/tsl/profiler/lib/profiler_session.cc:104] Profiler session initializing.\n",
      "2025-02-05 14:46:16.900569: I external/local_tsl/tsl/profiler/lib/profiler_session.cc:119] Profiler session started.\n"
     ]
    },
    {
     "name": "stdout",
     "output_type": "stream",
     "text": [
      "\n",
      "Running on /GPU:0 with batch size 64\n"
     ]
    },
    {
     "name": "stderr",
     "output_type": "stream",
     "text": [
      "2025-02-05 14:47:02.655713: I external/local_tsl/tsl/profiler/lib/profiler_session.cc:70] Profiler session collecting data.\n",
      "2025-02-05 14:47:03.829423: I external/local_tsl/tsl/profiler/lib/profiler_session.cc:131] Profiler session tear down.\n",
      "2025-02-05 14:47:03.830370: I external/local_tsl/tsl/profiler/rpc/client/save_profile.cc:144] Collecting XSpace to repository: logs/Noise/Cache/GPU/64/plugins/profile/2025_02_05_14_47_03/C17586.xplane.pb\n"
     ]
    }
   ],
   "source": [
    "# Run benchmarks for CPU and GPU (if available)\n",
    "devices = [\"/CPU:0\"]\n",
    "if gpus:\n",
    "    devices.append(\"/GPU:0\")\n",
    "\n",
    "final_results = []\n",
    "for device in devices:\n",
    "    for batch_size in BATCH_SIZES:\n",
    "        try:\n",
    "            tf.profiler.experimental.start(logdir = f\"logs/Noise/Cache/{device[1:4]}/{batch_size}\", \n",
    "                                           options=tf.profiler.experimental.ProfilerOptions(host_tracer_level = 3,\n",
    "                                                                                            device_tracer_level = 3))\n",
    "            final_results.extend(benchmark_model(device, batch_size))\n",
    "        finally:\n",
    "            tf.profiler.experimental.stop()"
   ]
  },
  {
   "cell_type": "markdown",
   "id": "f683f918-bf38-476e-8105-f3412daa03a1",
   "metadata": {},
   "source": [
    "## Results"
   ]
  },
  {
   "cell_type": "code",
   "execution_count": 6,
   "id": "b89c2cdf-e266-49e0-ba22-1cd44079a2c2",
   "metadata": {},
   "outputs": [
    {
     "data": {
      "text/html": [
       "<div>\n",
       "<style scoped>\n",
       "    .dataframe tbody tr th:only-of-type {\n",
       "        vertical-align: middle;\n",
       "    }\n",
       "\n",
       "    .dataframe tbody tr th {\n",
       "        vertical-align: top;\n",
       "    }\n",
       "\n",
       "    .dataframe thead th {\n",
       "        text-align: right;\n",
       "    }\n",
       "</style>\n",
       "<table border=\"1\" class=\"dataframe\">\n",
       "  <thead>\n",
       "    <tr style=\"text-align: right;\">\n",
       "      <th></th>\n",
       "      <th>device</th>\n",
       "      <th>batch_size</th>\n",
       "      <th>total_time</th>\n",
       "    </tr>\n",
       "  </thead>\n",
       "  <tbody>\n",
       "    <tr>\n",
       "      <th>0</th>\n",
       "      <td>/CPU:0</td>\n",
       "      <td>1</td>\n",
       "      <td>0.042829</td>\n",
       "    </tr>\n",
       "    <tr>\n",
       "      <th>1</th>\n",
       "      <td>/CPU:0</td>\n",
       "      <td>1</td>\n",
       "      <td>0.042413</td>\n",
       "    </tr>\n",
       "    <tr>\n",
       "      <th>2</th>\n",
       "      <td>/CPU:0</td>\n",
       "      <td>1</td>\n",
       "      <td>0.042348</td>\n",
       "    </tr>\n",
       "    <tr>\n",
       "      <th>3</th>\n",
       "      <td>/CPU:0</td>\n",
       "      <td>1</td>\n",
       "      <td>0.040541</td>\n",
       "    </tr>\n",
       "    <tr>\n",
       "      <th>4</th>\n",
       "      <td>/CPU:0</td>\n",
       "      <td>1</td>\n",
       "      <td>0.039662</td>\n",
       "    </tr>\n",
       "  </tbody>\n",
       "</table>\n",
       "</div>"
      ],
      "text/plain": [
       "   device  batch_size  total_time\n",
       "0  /CPU:0           1    0.042829\n",
       "1  /CPU:0           1    0.042413\n",
       "2  /CPU:0           1    0.042348\n",
       "3  /CPU:0           1    0.040541\n",
       "4  /CPU:0           1    0.039662"
      ]
     },
     "execution_count": 6,
     "metadata": {},
     "output_type": "execute_result"
    }
   ],
   "source": [
    "df = pd.DataFrame(final_results)\n",
    "df.head()"
   ]
  },
  {
   "cell_type": "code",
   "execution_count": 7,
   "id": "fa9939fb-12b7-4db5-8ea2-b6b62549cddb",
   "metadata": {},
   "outputs": [
    {
     "data": {
      "text/html": [
       "<div>\n",
       "<style scoped>\n",
       "    .dataframe tbody tr th:only-of-type {\n",
       "        vertical-align: middle;\n",
       "    }\n",
       "\n",
       "    .dataframe tbody tr th {\n",
       "        vertical-align: top;\n",
       "    }\n",
       "\n",
       "    .dataframe thead tr th {\n",
       "        text-align: left;\n",
       "    }\n",
       "\n",
       "    .dataframe thead tr:last-of-type th {\n",
       "        text-align: right;\n",
       "    }\n",
       "</style>\n",
       "<table border=\"1\" class=\"dataframe\">\n",
       "  <thead>\n",
       "    <tr>\n",
       "      <th></th>\n",
       "      <th></th>\n",
       "      <th colspan=\"4\" halign=\"left\">total_time</th>\n",
       "    </tr>\n",
       "    <tr>\n",
       "      <th></th>\n",
       "      <th></th>\n",
       "      <th>min</th>\n",
       "      <th>mean</th>\n",
       "      <th>var</th>\n",
       "      <th>max</th>\n",
       "    </tr>\n",
       "    <tr>\n",
       "      <th>device</th>\n",
       "      <th>batch_size</th>\n",
       "      <th></th>\n",
       "      <th></th>\n",
       "      <th></th>\n",
       "      <th></th>\n",
       "    </tr>\n",
       "  </thead>\n",
       "  <tbody>\n",
       "    <tr>\n",
       "      <th rowspan=\"6\" valign=\"top\">/CPU:0</th>\n",
       "      <th>1</th>\n",
       "      <td>0.039386</td>\n",
       "      <td>0.040884</td>\n",
       "      <td>0.000002</td>\n",
       "      <td>0.042829</td>\n",
       "    </tr>\n",
       "    <tr>\n",
       "      <th>4</th>\n",
       "      <td>0.064078</td>\n",
       "      <td>0.067390</td>\n",
       "      <td>0.000012</td>\n",
       "      <td>0.074663</td>\n",
       "    </tr>\n",
       "    <tr>\n",
       "      <th>8</th>\n",
       "      <td>0.086916</td>\n",
       "      <td>0.102506</td>\n",
       "      <td>0.000834</td>\n",
       "      <td>0.183935</td>\n",
       "    </tr>\n",
       "    <tr>\n",
       "      <th>16</th>\n",
       "      <td>0.142225</td>\n",
       "      <td>0.149689</td>\n",
       "      <td>0.000059</td>\n",
       "      <td>0.160843</td>\n",
       "    </tr>\n",
       "    <tr>\n",
       "      <th>32</th>\n",
       "      <td>0.283204</td>\n",
       "      <td>0.294445</td>\n",
       "      <td>0.000110</td>\n",
       "      <td>0.320506</td>\n",
       "    </tr>\n",
       "    <tr>\n",
       "      <th>64</th>\n",
       "      <td>1.246195</td>\n",
       "      <td>1.454401</td>\n",
       "      <td>0.017527</td>\n",
       "      <td>1.650604</td>\n",
       "    </tr>\n",
       "    <tr>\n",
       "      <th rowspan=\"6\" valign=\"top\">/GPU:0</th>\n",
       "      <th>1</th>\n",
       "      <td>0.089442</td>\n",
       "      <td>0.094301</td>\n",
       "      <td>0.000049</td>\n",
       "      <td>0.113257</td>\n",
       "    </tr>\n",
       "    <tr>\n",
       "      <th>4</th>\n",
       "      <td>0.092283</td>\n",
       "      <td>0.096087</td>\n",
       "      <td>0.000038</td>\n",
       "      <td>0.113161</td>\n",
       "    </tr>\n",
       "    <tr>\n",
       "      <th>8</th>\n",
       "      <td>0.093800</td>\n",
       "      <td>0.097852</td>\n",
       "      <td>0.000041</td>\n",
       "      <td>0.115525</td>\n",
       "    </tr>\n",
       "    <tr>\n",
       "      <th>16</th>\n",
       "      <td>0.091539</td>\n",
       "      <td>0.107042</td>\n",
       "      <td>0.001950</td>\n",
       "      <td>0.232546</td>\n",
       "    </tr>\n",
       "    <tr>\n",
       "      <th>32</th>\n",
       "      <td>0.141684</td>\n",
       "      <td>0.192252</td>\n",
       "      <td>0.010127</td>\n",
       "      <td>0.396843</td>\n",
       "    </tr>\n",
       "    <tr>\n",
       "      <th>64</th>\n",
       "      <td>0.778337</td>\n",
       "      <td>1.193435</td>\n",
       "      <td>0.031663</td>\n",
       "      <td>1.377343</td>\n",
       "    </tr>\n",
       "  </tbody>\n",
       "</table>\n",
       "</div>"
      ],
      "text/plain": [
       "                  total_time                              \n",
       "                         min      mean       var       max\n",
       "device batch_size                                         \n",
       "/CPU:0 1            0.039386  0.040884  0.000002  0.042829\n",
       "       4            0.064078  0.067390  0.000012  0.074663\n",
       "       8            0.086916  0.102506  0.000834  0.183935\n",
       "       16           0.142225  0.149689  0.000059  0.160843\n",
       "       32           0.283204  0.294445  0.000110  0.320506\n",
       "       64           1.246195  1.454401  0.017527  1.650604\n",
       "/GPU:0 1            0.089442  0.094301  0.000049  0.113257\n",
       "       4            0.092283  0.096087  0.000038  0.113161\n",
       "       8            0.093800  0.097852  0.000041  0.115525\n",
       "       16           0.091539  0.107042  0.001950  0.232546\n",
       "       32           0.141684  0.192252  0.010127  0.396843\n",
       "       64           0.778337  1.193435  0.031663  1.377343"
      ]
     },
     "execution_count": 7,
     "metadata": {},
     "output_type": "execute_result"
    }
   ],
   "source": [
    "df.groupby(['device', 'batch_size']).agg({'total_time': ['min', 'mean', 'var', 'max']})"
   ]
  },
  {
   "cell_type": "code",
   "execution_count": null,
   "id": "0769886b-f85f-489f-ad64-b263751231d9",
   "metadata": {},
   "outputs": [],
   "source": []
  }
 ],
 "metadata": {
  "kernelspec": {
   "display_name": "Python 3 (ipykernel)",
   "language": "python",
   "name": "python3"
  },
  "language_info": {
   "codemirror_mode": {
    "name": "ipython",
    "version": 3
   },
   "file_extension": ".py",
   "mimetype": "text/x-python",
   "name": "python",
   "nbconvert_exporter": "python",
   "pygments_lexer": "ipython3",
   "version": "3.10.16"
  }
 },
 "nbformat": 4,
 "nbformat_minor": 5
}
