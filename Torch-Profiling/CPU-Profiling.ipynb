{
 "cells": [
  {
   "cell_type": "code",
   "execution_count": 1,
   "id": "4f89999b-8e3a-4468-9f89-b15f667722bb",
   "metadata": {},
   "outputs": [],
   "source": [
    "import torch\n",
    "import torch.nn as nn\n",
    "import torch.nn.functional as F\n",
    "import time\n",
    "import numpy as np\n",
    "from torch.profiler import profile, record_function, ProfilerActivity\n",
    "from torchvision.models import resnet18, ResNet18_Weights  # Example pre-trained model\n",
    "from torch.utils.tensorboard import SummaryWriter\n",
    "from collections import OrderedDict\n"
   ]
  },
  {
   "cell_type": "code",
   "execution_count": 6,
   "id": "4d0f11ff-bdb6-420a-87c0-4bd702f76f84",
   "metadata": {},
   "outputs": [],
   "source": [
    "import mlx.core as mx\n",
    "import mlx.nn as nn\n",
    "\n",
    "class CachedConv2D(nn.Module):\n",
    "    def __init__(self, in_channels, out_channels, kernel_size, stride=1, padding=0):\n",
    "        super().__init__()\n",
    "        self.kernel_size = kernel_size\n",
    "        self.stride = stride\n",
    "        self.padding = padding\n",
    "        self.conv = nn.Conv2d(in_channels, out_channels, kernel_size, stride, padding)\n",
    "        self.cache = None  # To store cached activations\n",
    "\n",
    "    def forward(self, x):\n",
    "        batch_size, channels, height, width = x.shape\n",
    "\n",
    "        # Initialize cache if empty\n",
    "        if self.cache is None:\n",
    "            self.cache = mx.zeros((batch_size, channels, height, width))\n",
    "\n",
    "        # Compute only missing regions (where cache is zero)\n",
    "        needs_computation = mx.where(self.cache == 0, 1, 0)\n",
    "        computed_values = self.conv(x * needs_computation)\n",
    "\n",
    "        # Update cache: Merge cached & computed activations\n",
    "        self.cache = mx.where(needs_computation, computed_values, self.cache)\n",
    "\n",
    "        return self.cache\n"
   ]
  },
  {
   "cell_type": "code",
   "execution_count": 7,
   "id": "d8a73f18-1c91-4ae2-b2b6-5ccdcf46a0a3",
   "metadata": {},
   "outputs": [],
   "source": [
    "def replace_convolution_layers(model):\n",
    "    for name, module in model.named_children():\n",
    "        if isinstance(module, nn.Conv2d):\n",
    "            new_layer = CachedConv2D(\n",
    "                module.in_channels, module.out_channels, module.kernel_size[0], module.stride[0], module.padding[0]\n",
    "            )\n",
    "            new_layer.conv.weight = module.weight  # Copy weights\n",
    "            setattr(model, name, new_layer)\n",
    "        else:\n",
    "            replace_convolution_layers(module)  # Recursive replacement\n",
    "\n",
    "    return model\n"
   ]
  },
  {
   "cell_type": "code",
   "execution_count": 8,
   "id": "4552e002-4a6d-446b-a2e9-2e1aa24e9030",
   "metadata": {},
   "outputs": [],
   "source": [
    "def profile_model(model, input_tensor, log_dir=\"logs\"):\n",
    "    writer = SummaryWriter(log_dir)\n",
    "    \n",
    "    model.eval()\n",
    "    with torch.no_grad():\n",
    "        with profile(\n",
    "            activities=[ProfilerActivity.CPU],  # PyTorch Profiler Setup (Logging to TensorBoard)\n",
    "            record_shapes=True,  # Captures tensor shapes\n",
    "            profile_memory=True,  # Tracks memory usage\n",
    "            with_stack=True,  # Captures function call stack\n",
    "            on_trace_ready=torch.profiler.tensorboard_trace_handler(log_dir) # Saves data for TensorBoard\n",
    "            ) as prof:\n",
    "            output = model(input_tensor)\n",
    "\n",
    "    \n",
    "    # Save profiling data for TensorBoard\n",
    "    writer.add_graph(model, input_tensor)\n",
    "    writer.close()"
   ]
  },
  {
   "cell_type": "markdown",
   "id": "1b448204-81ba-492b-8e92-85a4de57e02a",
   "metadata": {},
   "source": [
    "## Driver"
   ]
  },
  {
   "cell_type": "code",
   "execution_count": 9,
   "id": "69ceb585-2cc5-42a5-9eb7-6ca1474ab1d0",
   "metadata": {},
   "outputs": [],
   "source": [
    "# Load Pre-Trained Model\n",
    "original_model = resnet18(weights=ResNet18_Weights)\n",
    "\n",
    "# Set Device\n",
    "device = torch.device(\"cpu\")\n",
    "\n",
    "# Create Modified Model with Cached Convolution\n",
    "cached_model = replace_convolution_layers(original_model)\n",
    "cached_model.to(device)\n",
    "\n",
    "# Generate Test Input\n",
    "test_input = torch.randn(1, 3, 224, 224).to(device)\n",
    "\n",
    "# Ensure the Modified Model Produces Identical Output\n",
    "original_output = original_model(test_input)\n",
    "cached_output = cached_model(test_input)\n",
    "\n",
    "assert torch.allclose(original_output, cached_output, atol=1e-5), \"Mismatch in outputs!\"\n",
    "\n",
    "# Profile the Model\n",
    "profile_model(cached_model, test_input, log_dir=\"logs/cached_conv\")\n",
    "profile_model(original_model, test_input, log_dir=\"logs/original_conv\")"
   ]
  },
  {
   "cell_type": "code",
   "execution_count": null,
   "id": "3d663abf-abe7-4c0e-b6be-bbe196a89af9",
   "metadata": {},
   "outputs": [],
   "source": []
  }
 ],
 "metadata": {
  "kernelspec": {
   "display_name": "Python 3 (ipykernel)",
   "language": "python",
   "name": "python3"
  },
  "language_info": {
   "codemirror_mode": {
    "name": "ipython",
    "version": 3
   },
   "file_extension": ".py",
   "mimetype": "text/x-python",
   "name": "python",
   "nbconvert_exporter": "python",
   "pygments_lexer": "ipython3",
   "version": "3.9.6"
  }
 },
 "nbformat": 4,
 "nbformat_minor": 5
}
